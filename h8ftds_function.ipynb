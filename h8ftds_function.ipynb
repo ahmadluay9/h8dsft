{
 "cells": [
  {
   "cell_type": "markdown",
   "id": "f7ce725f",
   "metadata": {},
   "source": [
    "Non Graded Challenge 3 - Functions"
   ]
  },
  {
   "cell_type": "code",
   "execution_count": 1,
   "id": "af07e740",
   "metadata": {},
   "outputs": [],
   "source": [
    "# K to C: C = K - 273\n",
    "# K to F: F = 9/5(K - 273)\n",
    "# C to F: F= 9/5(C)+32\n",
    "# C to K: K = C +273\n",
    "# F to C: C = (F -32)/1.80\n",
    "# F to K: K = 5/9(F-32)+273.15"
   ]
  },
  {
   "cell_type": "markdown",
   "id": "98e576ab",
   "metadata": {},
   "source": [
    "1. Buatlah sebuah function yang dapat mengkonversi suhu dari kelvin ke celcius, dan celcius ke kelvin."
   ]
  },
  {
   "cell_type": "code",
   "execution_count": 2,
   "id": "80c9d6b2",
   "metadata": {},
   "outputs": [
    {
     "name": "stdout",
     "output_type": "stream",
     "text": [
      "Convert from Kelvin to Celcius\n",
      "Temperature in Kelvin: 373\n",
      "Temperature in Kelvin is 373.0 degree.\n",
      "Temperature in Celcius is 100.0 degree.\n"
     ]
    }
   ],
   "source": [
    "# creating function to convert kelvin to celcius\n",
    "def kelvin_to_celcius(temperature): # parameter temperature is temperature in kelvin | int or float\n",
    "    temperature = temperature - 273\n",
    "    return temperature # return temperature in celcius | int or float\n",
    "\n",
    "\n",
    "print(\"Convert from Kelvin to Celcius\")\n",
    "temp_in_kelvin = float(input(\"Temperature in Kelvin: \"))\n",
    "\n",
    "print(\"Temperature in Kelvin is\", temp_in_kelvin, \"degree.\")\n",
    "print(\"Temperature in Celcius is\", kelvin_to_celcius(temp_in_kelvin),\"degree.\")\n"
   ]
  },
  {
   "cell_type": "code",
   "execution_count": 3,
   "id": "e6cff4e9",
   "metadata": {},
   "outputs": [
    {
     "name": "stdout",
     "output_type": "stream",
     "text": [
      "Convert from Celcius to Kelvin\n",
      "Temperature in Celcius: 100\n",
      "Temperature in Celcius is 100.0 degree.\n",
      "Temperature in Kelvin is 373.0 degree.\n"
     ]
    }
   ],
   "source": [
    "#creating function to convert celcius to kelvin\n",
    "def celcius_to_kelvin(temperature): # parameter temperature in celcius\n",
    "    temperature = temperature + 273\n",
    "    return temperature # return temperature in kelvin\n",
    "\n",
    "print(\"Convert from Celcius to Kelvin\")\n",
    "temp_in_celcius = float(input(\"Temperature in Celcius: \"))\n",
    "\n",
    "print(\"Temperature in Celcius is\", temp_in_celcius, \"degree.\")\n",
    "print(\"Temperature in Kelvin is\", celcius_to_kelvin(temp_in_celcius),\"degree.\")\n"
   ]
  },
  {
   "cell_type": "markdown",
   "id": "7ec6829e",
   "metadata": {},
   "source": [
    "2. Buatlah sebuah function yang dapat mengkonversi suhu ke fahrenheit. Tambahkan parameter untuk memastikan bahwa argumen yang dimasukan adalah celcius atau kelvin. Panggil function yang pertama jika diperlukan."
   ]
  },
  {
   "cell_type": "code",
   "execution_count": 25,
   "id": "22c33068",
   "metadata": {},
   "outputs": [],
   "source": [
    "# creating function to convert from celcius to fahrenheit\n",
    "def celcius_to_fahrenheit(temperature): #parameter temperature in celcius\n",
    "    temperature = (9/5*temperature)+32\n",
    "    return temperature # return temperature in fahrenheit\n",
    "\n",
    "#creating function to convert temperature to fahrenheit\n",
    "def convert_to_fahrenheit(temperature,unit): # temperature value in celcius or kelvin, unit in celcius or kelvin\n",
    "    if unit == \"celcius\":\n",
    "        temperature = celcius_to_fahrenheit(temperature)\n",
    "    elif unit == \"kelvin\":\n",
    "        temperature = kelvin_to_celcius(temperature) #convert to celcius first\n",
    "        temperature = celcius_to_fahrenheit(temperature) # convert from celcius to fahrenheit\n",
    "    else:\n",
    "        temperature = \"None\"\n",
    "        print(\"Unknown value of param `origin`. Param `origin` must be `celcius` or `kelvin`\")\n",
    "    return temperature"
   ]
  },
  {
   "cell_type": "code",
   "execution_count": 21,
   "id": "8b79b79a",
   "metadata": {},
   "outputs": [
    {
     "name": "stdout",
     "output_type": "stream",
     "text": [
      "temperature value: 100\n",
      "unit: celcius\n",
      "from celcius to fahrenheit\n",
      "fahrenheit temperature value is :  212.0\n"
     ]
    }
   ],
   "source": [
    "temperature = float(input(\"temperature value: \"))\n",
    "unit = input(\"unit: \")\n",
    "\n",
    "print(f\"from {unit}\",\"to fahrenheit\")\n",
    "print(\"fahrenheit temperature value is : \",convert_to_fahrenheit(temperature,unit))"
   ]
  },
  {
   "cell_type": "code",
   "execution_count": 22,
   "id": "f7e29917",
   "metadata": {},
   "outputs": [
    {
     "name": "stdout",
     "output_type": "stream",
     "text": [
      "temperature value: 100\n",
      "unit: kelvin\n",
      "from kelvin to fahrenheit\n",
      "fahrenheit temperature value is :  -279.40000000000003\n"
     ]
    }
   ],
   "source": [
    "temperature = float(input(\"temperature value: \"))\n",
    "unit = input(\"unit: \")\n",
    "\n",
    "print(f\"from {unit}\",\"to fahrenheit\")\n",
    "print(\"fahrenheit temperature value is : \",convert_to_fahrenheit(temperature,unit))"
   ]
  },
  {
   "cell_type": "code",
   "execution_count": 23,
   "id": "86a18e40",
   "metadata": {},
   "outputs": [
    {
     "name": "stdout",
     "output_type": "stream",
     "text": [
      "temperature value: 100\n",
      "unit: reamur\n",
      "from reamur to fahrenheit\n",
      "Unknown value of param `origin`. Param `origin` must be `celcius` or `kelvin`\n",
      "fahrenheit temperature value is :  None\n"
     ]
    }
   ],
   "source": [
    "temperature = float(input(\"temperature value: \"))\n",
    "unit = input(\"unit: \")\n",
    "\n",
    "print(f\"from {unit}\",\"to fahrenheit\")\n",
    "print(\"fahrenheit temperature value is : \",convert_to_fahrenheit(temperature,unit))"
   ]
  },
  {
   "cell_type": "markdown",
   "id": "feb38c44",
   "metadata": {},
   "source": [
    "3. Buatlah sebuah function yang dapat mengkonversi suhu dari fahrenheit. Berikan argumen untuk memastikan bahwa outputnya adalah celcius atau kelvin"
   ]
  },
  {
   "cell_type": "code",
   "execution_count": 10,
   "id": "8cd1d3aa",
   "metadata": {},
   "outputs": [],
   "source": [
    "#creating function to convert from fahrenheit to celcius\n",
    "def fahrenheit_to_celcius(temperature):\n",
    "    temperature = (temperature - 32)/1.80\n",
    "    return temperature\n",
    "\n",
    "#creating function to convert from fahrenheit to celcius or kelvin\n",
    "def convert_from_fahrenheit(temperature,unit): # parameter temperature value in celcius or kelvin, unit in celcius or kelvin\n",
    "    if unit == \"celcius\":\n",
    "        temperature = fahrenheit_to_celcius(temperature)\n",
    "    elif unit == \"kelvin\":\n",
    "        temperature = fahrenheit_to_celcius(temperature)\n",
    "        temperature = celcius_to_kelvin(temperature)\n",
    "    else:\n",
    "        temperature = \"None\"\n",
    "        print(\"Unknown value of param `origin`. Param `origin` must be `celcius` or `kelvin`\")\n",
    "    return temperature"
   ]
  },
  {
   "cell_type": "code",
   "execution_count": 18,
   "id": "6f849b1b",
   "metadata": {},
   "outputs": [
    {
     "name": "stdout",
     "output_type": "stream",
     "text": [
      "temperature value: 100\n",
      "unit: celcius\n",
      "from fahrenheit to celcius\n",
      "Temperature value is :  37.77777777777778 degree celcius\n"
     ]
    }
   ],
   "source": [
    "temperature = float(input(\"temperature value: \"))\n",
    "unit = input(\"unit: \")\n",
    "\n",
    "print(\"from fahrenheit\",f\"to {unit}\")\n",
    "print(\"Temperature value is : \",convert_from_fahrenheit(temperature,unit),f\"degree {unit}\")"
   ]
  },
  {
   "cell_type": "code",
   "execution_count": 19,
   "id": "1023c396",
   "metadata": {},
   "outputs": [
    {
     "name": "stdout",
     "output_type": "stream",
     "text": [
      "temperature value: 100\n",
      "unit: kelvin\n",
      "from fahrenheit to kelvin\n",
      "Temperature value is :  310.77777777777777 degree kelvin\n"
     ]
    }
   ],
   "source": [
    "temperature = float(input(\"temperature value: \"))\n",
    "unit = input(\"unit: \")\n",
    "\n",
    "print(\"from fahrenheit\",f\"to {unit}\")\n",
    "print(\"Temperature value is : \",convert_from_fahrenheit(temperature,unit),f\"degree {unit}\")"
   ]
  },
  {
   "cell_type": "code",
   "execution_count": 24,
   "id": "96908e17",
   "metadata": {},
   "outputs": [
    {
     "name": "stdout",
     "output_type": "stream",
     "text": [
      "temperature value: 100\n",
      "unit: reamur\n",
      "from fahrenheit to reamur\n",
      "Unknown value of param `origin`. Param `origin` must be `celcius` or `kelvin`\n",
      "Temperature value is :  None degree reamur\n"
     ]
    }
   ],
   "source": [
    "temperature = float(input(\"temperature value: \"))\n",
    "unit = input(\"unit: \")\n",
    "\n",
    "print(\"from fahrenheit\",f\"to {unit}\")\n",
    "print(\"Temperature value is : \",convert_from_fahrenheit(temperature,unit),f\"degree {unit}\")"
   ]
  },
  {
   "cell_type": "code",
   "execution_count": null,
   "id": "cb18424d",
   "metadata": {},
   "outputs": [],
   "source": []
  }
 ],
 "metadata": {
  "kernelspec": {
   "display_name": "Python 3 (ipykernel)",
   "language": "python",
   "name": "python3"
  },
  "language_info": {
   "codemirror_mode": {
    "name": "ipython",
    "version": 3
   },
   "file_extension": ".py",
   "mimetype": "text/x-python",
   "name": "python",
   "nbconvert_exporter": "python",
   "pygments_lexer": "ipython3",
   "version": "3.9.13"
  }
 },
 "nbformat": 4,
 "nbformat_minor": 5
}
