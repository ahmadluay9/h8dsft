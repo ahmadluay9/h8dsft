{
 "cells": [
  {
   "attachments": {},
   "cell_type": "markdown",
   "metadata": {},
   "source": [
    "# GRADED CHALLENGE 2"
   ]
  },
  {
   "attachments": {},
   "cell_type": "markdown",
   "metadata": {},
   "source": [
    "Ahmad Luay Adnani\n",
    "FTDS-018-RMT"
   ]
  },
  {
   "attachments": {},
   "cell_type": "markdown",
   "metadata": {},
   "source": [
    "# Perkenalan"
   ]
  },
  {
   "attachments": {},
   "cell_type": "markdown",
   "metadata": {},
   "source": [
    "Bab ini mengenai latar belakang permasalahan dan problem statement yang ingin dibahas."
   ]
  },
  {
   "attachments": {},
   "cell_type": "markdown",
   "metadata": {},
   "source": [
    "## Latar Belakang"
   ]
  },
  {
   "attachments": {},
   "cell_type": "markdown",
   "metadata": {},
   "source": [
    "### Latar Belakang Permasalahan"
   ]
  },
  {
   "attachments": {},
   "cell_type": "markdown",
   "metadata": {},
   "source": [
    "Saya adalah anggota tim Data Science di Austin Smart City dan sedang mengerjakan projek analisa sistem pembuangan dan pengelolaan sampah di kota tersebut. "
   ]
  },
  {
   "attachments": {},
   "cell_type": "markdown",
   "metadata": {},
   "source": [
    "### Problem permasalahan yang ingin dibahas"
   ]
  },
  {
   "attachments": {},
   "cell_type": "markdown",
   "metadata": {},
   "source": [
    "Dengan mengolah data menggunakan ilmu matematika seperti statistik dan kalkulus, kita dapat memberikan saran ke pemerintah kota Austin sistem apa yang kita tambahkan atau lakukan untuk pembuangan dan pengeloalaan sampah di kota Austin."
   ]
  },
  {
   "attachments": {},
   "cell_type": "markdown",
   "metadata": {},
   "source": [
    "# SQL Queries"
   ]
  },
  {
   "attachments": {},
   "cell_type": "markdown",
   "metadata": {},
   "source": [
    "Bagian ini menjelaskan cara untuk memperoleh data menggunakan SQL BigQuery, melingkupi kesesuaian kode dengan tabel yang dihasilkan"
   ]
  },
  {
   "attachments": {},
   "cell_type": "markdown",
   "metadata": {},
   "source": [
    "## Cara menggunakan SQL BigQuerry"
   ]
  },
  {
   "attachments": {},
   "cell_type": "markdown",
   "metadata": {},
   "source": [
    "Data yang didapat merupakan data dari Google Cloud Big Query yaitu tabel `waste_and_diversion` pada dataset `austin_waste`. Query yang dilakukan memiliki kriteria yaitu hanya kolom `report_date`,`load_time`, `load_type`, `load_weight`, `dropoff_site` serta tahun 2021 saja. Berikut langkah-langkah untuk melakukan query:"
   ]
  },
  {
   "attachments": {},
   "cell_type": "markdown",
   "metadata": {},
   "source": [
    "1. Buka Console Google Cloud.\n",
    "2. Kemudian pilih dataset `austin_waste` selanjutnya pilih tabel `waste_and_diversion`.\n",
    "3. Centang Field name `report_date`,`load_time`, `load_type`, `load_weight`, `dropoff_site`.\n",
    "4. Klik tab query pilih \"In New Tab\"\n",
    "5. Di tab query input seperti dibawah ini:"
   ]
  },
  {
   "attachments": {},
   "cell_type": "markdown",
   "metadata": {},
   "source": [
    "```\n",
    "SELECT report_date, load_type, load_time, load_weight, dropoff_site FROM `bigquery-public-data.austin_waste.waste_and_diversion` \n",
    "WHERE report_date BETWEEN \"2021-01-01\" AND \"2021-12-31\"\n",
    "```\n"
   ]
  },
  {
   "attachments": {},
   "cell_type": "markdown",
   "metadata": {},
   "source": [
    "6. Save result as .CSV to local."
   ]
  },
  {
   "attachments": {},
   "cell_type": "markdown",
   "metadata": {},
   "source": [
    "# Import Library"
   ]
  },
  {
   "attachments": {},
   "cell_type": "markdown",
   "metadata": {},
   "source": [
    "Bagian ini menjelaskan tentang cara untuk impor library yang digunakan. Library yang digunakan antara lain __numpy, scipy, pandas, matplotlib__ dan __seaborn__. Cara untuk mengimpor library sebagai berikut:"
   ]
  },
  {
   "cell_type": "code",
   "execution_count": 1043,
   "metadata": {},
   "outputs": [
    {
     "name": "stdout",
     "output_type": "stream",
     "text": [
      "Versi numpy :  1.24.1\n",
      "Versi scipy :  1.10.0\n",
      "Versi pandas :  1.5.3\n"
     ]
    }
   ],
   "source": [
    "#import library dan cek versi\n",
    "import numpy as np\n",
    "import scipy as sp\n",
    "import pandas as pd \n",
    "import scipy.stats as stats\n",
    "import matplotlib.pyplot as plt\n",
    "import seaborn as sns\n",
    "import random\n",
    "print(\"Versi numpy : \",np.__version__)\n",
    "print(\"Versi scipy : \",sp.__version__)\n",
    "print(\"Versi pandas : \",pd.__version__)"
   ]
  },
  {
   "attachments": {},
   "cell_type": "markdown",
   "metadata": {},
   "source": [
    "# Data Preprocessing"
   ]
  },
  {
   "attachments": {},
   "cell_type": "markdown",
   "metadata": {},
   "source": [
    "Bagian ini menjelaskan cara mempersiapkan data sampai siap digunakan dalam perhitungan serta mengetahui informasi yang terdapat dari dataset yang ada."
   ]
  },
  {
   "attachments": {},
   "cell_type": "markdown",
   "metadata": {},
   "source": [
    "## Data Loading"
   ]
  },
  {
   "attachments": {},
   "cell_type": "markdown",
   "metadata": {},
   "source": [
    "Data loading dilakukan menggunakan rumus `pandas.read_csv()`. Untuk menampilkan 5 data teratas menggunakan fungsi `dataframe.head()` dan untuk menampilkan 5 data terbawah menggunakan fungsi `dataframe.tail()`."
   ]
  },
  {
   "attachments": {},
   "cell_type": "markdown",
   "metadata": {},
   "source": [
    "- Tampilan 5 data teratas"
   ]
  },
  {
   "cell_type": "code",
   "execution_count": 1044,
   "metadata": {},
   "outputs": [
    {
     "data": {
      "text/html": [
       "<div>\n",
       "<style scoped>\n",
       "    .dataframe tbody tr th:only-of-type {\n",
       "        vertical-align: middle;\n",
       "    }\n",
       "\n",
       "    .dataframe tbody tr th {\n",
       "        vertical-align: top;\n",
       "    }\n",
       "\n",
       "    .dataframe thead th {\n",
       "        text-align: right;\n",
       "    }\n",
       "</style>\n",
       "<table border=\"1\" class=\"dataframe\">\n",
       "  <thead>\n",
       "    <tr style=\"text-align: right;\">\n",
       "      <th></th>\n",
       "      <th>report_date</th>\n",
       "      <th>load_type</th>\n",
       "      <th>load_time</th>\n",
       "      <th>load_weight</th>\n",
       "      <th>dropoff_site</th>\n",
       "    </tr>\n",
       "  </thead>\n",
       "  <tbody>\n",
       "    <tr>\n",
       "      <th>0</th>\n",
       "      <td>2021-07-08</td>\n",
       "      <td>TIRES</td>\n",
       "      <td>2021-07-08 12:00:00 UTC</td>\n",
       "      <td>2260.0</td>\n",
       "      <td>MRF</td>\n",
       "    </tr>\n",
       "    <tr>\n",
       "      <th>1</th>\n",
       "      <td>2021-07-08</td>\n",
       "      <td>TIRES</td>\n",
       "      <td>2021-07-08 11:00:00 UTC</td>\n",
       "      <td>1260.0</td>\n",
       "      <td>MRF</td>\n",
       "    </tr>\n",
       "    <tr>\n",
       "      <th>2</th>\n",
       "      <td>2021-07-08</td>\n",
       "      <td>TIRES</td>\n",
       "      <td>2021-07-08 03:00:00 UTC</td>\n",
       "      <td>800.0</td>\n",
       "      <td>MRF</td>\n",
       "    </tr>\n",
       "    <tr>\n",
       "      <th>3</th>\n",
       "      <td>2021-05-01</td>\n",
       "      <td>TIRES</td>\n",
       "      <td>2021-05-01 12:29:00 UTC</td>\n",
       "      <td>760.0</td>\n",
       "      <td>MRF</td>\n",
       "    </tr>\n",
       "    <tr>\n",
       "      <th>4</th>\n",
       "      <td>2021-07-03</td>\n",
       "      <td>TIRES</td>\n",
       "      <td>2021-07-03 12:09:00 UTC</td>\n",
       "      <td>1400.0</td>\n",
       "      <td>MRF</td>\n",
       "    </tr>\n",
       "  </tbody>\n",
       "</table>\n",
       "</div>"
      ],
      "text/plain": [
       "  report_date load_type                load_time  load_weight dropoff_site\n",
       "0  2021-07-08     TIRES  2021-07-08 12:00:00 UTC       2260.0          MRF\n",
       "1  2021-07-08     TIRES  2021-07-08 11:00:00 UTC       1260.0          MRF\n",
       "2  2021-07-08     TIRES  2021-07-08 03:00:00 UTC        800.0          MRF\n",
       "3  2021-05-01     TIRES  2021-05-01 12:29:00 UTC        760.0          MRF\n",
       "4  2021-07-03     TIRES  2021-07-03 12:09:00 UTC       1400.0          MRF"
      ]
     },
     "execution_count": 1044,
     "metadata": {},
     "output_type": "execute_result"
    }
   ],
   "source": [
    "#  data loading\n",
    "df = pd.read_csv(\"h8dsft_P0GC2_Ahmad Luay Adnani.csv\")\n",
    "# menampilkan 5 baris teratas\n",
    "df.head()"
   ]
  },
  {
   "attachments": {},
   "cell_type": "markdown",
   "metadata": {},
   "source": [
    "- Tampilan 5 data terbawah"
   ]
  },
  {
   "cell_type": "code",
   "execution_count": 1045,
   "metadata": {},
   "outputs": [
    {
     "data": {
      "text/html": [
       "<div>\n",
       "<style scoped>\n",
       "    .dataframe tbody tr th:only-of-type {\n",
       "        vertical-align: middle;\n",
       "    }\n",
       "\n",
       "    .dataframe tbody tr th {\n",
       "        vertical-align: top;\n",
       "    }\n",
       "\n",
       "    .dataframe thead th {\n",
       "        text-align: right;\n",
       "    }\n",
       "</style>\n",
       "<table border=\"1\" class=\"dataframe\">\n",
       "  <thead>\n",
       "    <tr style=\"text-align: right;\">\n",
       "      <th></th>\n",
       "      <th>report_date</th>\n",
       "      <th>load_type</th>\n",
       "      <th>load_time</th>\n",
       "      <th>load_weight</th>\n",
       "      <th>dropoff_site</th>\n",
       "    </tr>\n",
       "  </thead>\n",
       "  <tbody>\n",
       "    <tr>\n",
       "      <th>26152</th>\n",
       "      <td>2021-03-01</td>\n",
       "      <td>ORGANICS</td>\n",
       "      <td>2021-03-01 11:26:00 UTC</td>\n",
       "      <td>12100.0</td>\n",
       "      <td>ORGANICS BY GOSH</td>\n",
       "    </tr>\n",
       "    <tr>\n",
       "      <th>26153</th>\n",
       "      <td>2021-03-01</td>\n",
       "      <td>ORGANICS</td>\n",
       "      <td>2021-03-01 04:27:00 UTC</td>\n",
       "      <td>10900.0</td>\n",
       "      <td>ORGANICS BY GOSH</td>\n",
       "    </tr>\n",
       "    <tr>\n",
       "      <th>26154</th>\n",
       "      <td>2021-03-01</td>\n",
       "      <td>ORGANICS</td>\n",
       "      <td>2021-03-01 05:55:00 UTC</td>\n",
       "      <td>21800.0</td>\n",
       "      <td>ORGANICS BY GOSH</td>\n",
       "    </tr>\n",
       "    <tr>\n",
       "      <th>26155</th>\n",
       "      <td>2021-03-01</td>\n",
       "      <td>ORGANICS</td>\n",
       "      <td>2021-03-02 01:10:00 UTC</td>\n",
       "      <td>5640.0</td>\n",
       "      <td>ORGANICS BY GOSH</td>\n",
       "    </tr>\n",
       "    <tr>\n",
       "      <th>26156</th>\n",
       "      <td>2021-03-01</td>\n",
       "      <td>RECYCLED METAL</td>\n",
       "      <td>2021-03-01 10:22:00 UTC</td>\n",
       "      <td>360.0</td>\n",
       "      <td>AUSTIN IRON AND METAL</td>\n",
       "    </tr>\n",
       "  </tbody>\n",
       "</table>\n",
       "</div>"
      ],
      "text/plain": [
       "      report_date       load_type                load_time  load_weight  \\\n",
       "26152  2021-03-01        ORGANICS  2021-03-01 11:26:00 UTC      12100.0   \n",
       "26153  2021-03-01        ORGANICS  2021-03-01 04:27:00 UTC      10900.0   \n",
       "26154  2021-03-01        ORGANICS  2021-03-01 05:55:00 UTC      21800.0   \n",
       "26155  2021-03-01        ORGANICS  2021-03-02 01:10:00 UTC       5640.0   \n",
       "26156  2021-03-01  RECYCLED METAL  2021-03-01 10:22:00 UTC        360.0   \n",
       "\n",
       "                dropoff_site  \n",
       "26152       ORGANICS BY GOSH  \n",
       "26153       ORGANICS BY GOSH  \n",
       "26154       ORGANICS BY GOSH  \n",
       "26155       ORGANICS BY GOSH  \n",
       "26156  AUSTIN IRON AND METAL  "
      ]
     },
     "execution_count": 1045,
     "metadata": {},
     "output_type": "execute_result"
    }
   ],
   "source": [
    "# menampilkan 5 baris terbawah\n",
    "df.tail()"
   ]
  },
  {
   "attachments": {},
   "cell_type": "markdown",
   "metadata": {},
   "source": [
    "Berikut merupakan variabel dan definsi dari masing-masing kolom:\n",
    "\n",
    "Nama Kolom | Definisi\n",
    "---|---\n",
    "`report_date` | Tanggal pencatatan data.\n",
    "`load_type` | Jenis sampah/limbah yang dimuat.\n",
    "`load_time` | Waktu ketika sampah/limbah diangkut.\n",
    "`load_weight` | Berat muatan sampah/limbah.\n",
    "`dropoff_site` | Tempat pembuangan sampah.\n"
   ]
  },
  {
   "cell_type": "code",
   "execution_count": 1046,
   "metadata": {},
   "outputs": [
    {
     "data": {
      "text/plain": [
       "(26157, 5)"
      ]
     },
     "execution_count": 1046,
     "metadata": {},
     "output_type": "execute_result"
    }
   ],
   "source": [
    "# mengetahui jumlah baris dan kolom\n",
    "df.shape"
   ]
  },
  {
   "attachments": {},
   "cell_type": "markdown",
   "metadata": {},
   "source": [
    "Diketahui dataset diatas memiliki __26.157__ baris dan __5__ kolom."
   ]
  },
  {
   "attachments": {},
   "cell_type": "markdown",
   "metadata": {},
   "source": [
    "## Informasi"
   ]
  },
  {
   "attachments": {},
   "cell_type": "markdown",
   "metadata": {},
   "source": [
    "Untuk menampilkan informasi digunakan fungsi `Dataframe.info()`."
   ]
  },
  {
   "cell_type": "code",
   "execution_count": 1047,
   "metadata": {},
   "outputs": [
    {
     "name": "stdout",
     "output_type": "stream",
     "text": [
      "<class 'pandas.core.frame.DataFrame'>\n",
      "RangeIndex: 26157 entries, 0 to 26156\n",
      "Data columns (total 5 columns):\n",
      " #   Column        Non-Null Count  Dtype  \n",
      "---  ------        --------------  -----  \n",
      " 0   report_date   26157 non-null  object \n",
      " 1   load_type     26157 non-null  object \n",
      " 2   load_time     26157 non-null  object \n",
      " 3   load_weight   25109 non-null  float64\n",
      " 4   dropoff_site  26157 non-null  object \n",
      "dtypes: float64(1), object(4)\n",
      "memory usage: 1021.9+ KB\n"
     ]
    }
   ],
   "source": [
    "# menampilkan informasi\n",
    "df.info()"
   ]
  },
  {
   "attachments": {},
   "cell_type": "markdown",
   "metadata": {},
   "source": [
    "Didapat informasi terkait dataset diatas kolom `report_date`, `load_type`, `load_time` dan `dropoff_site` memiliki __26.157__ nilai. Sedangkan kolom `load_weight` hanya  __25.109__ yang memiliki nilai hal ini menunjukkan kolom ini terdapat _missing value_."
   ]
  },
  {
   "attachments": {},
   "cell_type": "markdown",
   "metadata": {},
   "source": [
    "## Cek Duplikasi"
   ]
  },
  {
   "attachments": {},
   "cell_type": "markdown",
   "metadata": {},
   "source": [
    "Untuk cek duplikasi digunakan fungsi `pandas.DataFrame.duplicated()`."
   ]
  },
  {
   "cell_type": "code",
   "execution_count": 1048,
   "metadata": {},
   "outputs": [
    {
     "data": {
      "text/plain": [
       "False    25712\n",
       "True       445\n",
       "dtype: int64"
      ]
     },
     "execution_count": 1048,
     "metadata": {},
     "output_type": "execute_result"
    }
   ],
   "source": [
    "# menghitung jumlah baris yang terduplikasi\n",
    "df.duplicated().value_counts()"
   ]
  },
  {
   "cell_type": "code",
   "execution_count": 1049,
   "metadata": {},
   "outputs": [
    {
     "data": {
      "text/html": [
       "<div>\n",
       "<style scoped>\n",
       "    .dataframe tbody tr th:only-of-type {\n",
       "        vertical-align: middle;\n",
       "    }\n",
       "\n",
       "    .dataframe tbody tr th {\n",
       "        vertical-align: top;\n",
       "    }\n",
       "\n",
       "    .dataframe thead th {\n",
       "        text-align: right;\n",
       "    }\n",
       "</style>\n",
       "<table border=\"1\" class=\"dataframe\">\n",
       "  <thead>\n",
       "    <tr style=\"text-align: right;\">\n",
       "      <th></th>\n",
       "      <th>report_date</th>\n",
       "      <th>load_type</th>\n",
       "      <th>load_time</th>\n",
       "      <th>load_weight</th>\n",
       "      <th>dropoff_site</th>\n",
       "    </tr>\n",
       "  </thead>\n",
       "  <tbody>\n",
       "    <tr>\n",
       "      <th>124</th>\n",
       "      <td>2021-01-01</td>\n",
       "      <td>SWEEPING</td>\n",
       "      <td>2021-01-01 12:00:00 UTC</td>\n",
       "      <td>NaN</td>\n",
       "      <td>ONION CREEK</td>\n",
       "    </tr>\n",
       "    <tr>\n",
       "      <th>125</th>\n",
       "      <td>2021-01-01</td>\n",
       "      <td>SWEEPING</td>\n",
       "      <td>2021-01-01 12:00:00 UTC</td>\n",
       "      <td>NaN</td>\n",
       "      <td>ONION CREEK</td>\n",
       "    </tr>\n",
       "    <tr>\n",
       "      <th>126</th>\n",
       "      <td>2021-01-01</td>\n",
       "      <td>SWEEPING</td>\n",
       "      <td>2021-01-01 12:00:00 UTC</td>\n",
       "      <td>NaN</td>\n",
       "      <td>ONION CREEK</td>\n",
       "    </tr>\n",
       "    <tr>\n",
       "      <th>19133</th>\n",
       "      <td>2021-01-02</td>\n",
       "      <td>SWEEPING</td>\n",
       "      <td>2021-01-02 12:00:00 UTC</td>\n",
       "      <td>NaN</td>\n",
       "      <td>ONION CREEK</td>\n",
       "    </tr>\n",
       "    <tr>\n",
       "      <th>19134</th>\n",
       "      <td>2021-01-02</td>\n",
       "      <td>SWEEPING</td>\n",
       "      <td>2021-01-02 12:00:00 UTC</td>\n",
       "      <td>NaN</td>\n",
       "      <td>ONION CREEK</td>\n",
       "    </tr>\n",
       "    <tr>\n",
       "      <th>...</th>\n",
       "      <td>...</td>\n",
       "      <td>...</td>\n",
       "      <td>...</td>\n",
       "      <td>...</td>\n",
       "      <td>...</td>\n",
       "    </tr>\n",
       "    <tr>\n",
       "      <th>206</th>\n",
       "      <td>2021-07-09</td>\n",
       "      <td>BRUSH</td>\n",
       "      <td>2021-07-09 05:40:00 UTC</td>\n",
       "      <td>5500.0</td>\n",
       "      <td>HORNSBY BEND</td>\n",
       "    </tr>\n",
       "    <tr>\n",
       "      <th>148</th>\n",
       "      <td>2021-07-09</td>\n",
       "      <td>SWEEPING</td>\n",
       "      <td>2021-07-09 12:00:00 UTC</td>\n",
       "      <td>NaN</td>\n",
       "      <td>ONION CREEK</td>\n",
       "    </tr>\n",
       "    <tr>\n",
       "      <th>47</th>\n",
       "      <td>2021-07-09</td>\n",
       "      <td>SWEEPING</td>\n",
       "      <td>2021-07-09 12:00:00 UTC</td>\n",
       "      <td>NaN</td>\n",
       "      <td>ONION CREEK</td>\n",
       "    </tr>\n",
       "    <tr>\n",
       "      <th>109</th>\n",
       "      <td>2021-07-09</td>\n",
       "      <td>SWEEPING</td>\n",
       "      <td>2021-07-09 12:00:00 UTC</td>\n",
       "      <td>NaN</td>\n",
       "      <td>ONION CREEK</td>\n",
       "    </tr>\n",
       "    <tr>\n",
       "      <th>120</th>\n",
       "      <td>2021-07-09</td>\n",
       "      <td>SWEEPING</td>\n",
       "      <td>2021-07-09 12:00:00 UTC</td>\n",
       "      <td>NaN</td>\n",
       "      <td>ONION CREEK</td>\n",
       "    </tr>\n",
       "  </tbody>\n",
       "</table>\n",
       "<p>445 rows × 5 columns</p>\n",
       "</div>"
      ],
      "text/plain": [
       "      report_date load_type                load_time  load_weight  \\\n",
       "124    2021-01-01  SWEEPING  2021-01-01 12:00:00 UTC          NaN   \n",
       "125    2021-01-01  SWEEPING  2021-01-01 12:00:00 UTC          NaN   \n",
       "126    2021-01-01  SWEEPING  2021-01-01 12:00:00 UTC          NaN   \n",
       "19133  2021-01-02  SWEEPING  2021-01-02 12:00:00 UTC          NaN   \n",
       "19134  2021-01-02  SWEEPING  2021-01-02 12:00:00 UTC          NaN   \n",
       "...           ...       ...                      ...          ...   \n",
       "206    2021-07-09     BRUSH  2021-07-09 05:40:00 UTC       5500.0   \n",
       "148    2021-07-09  SWEEPING  2021-07-09 12:00:00 UTC          NaN   \n",
       "47     2021-07-09  SWEEPING  2021-07-09 12:00:00 UTC          NaN   \n",
       "109    2021-07-09  SWEEPING  2021-07-09 12:00:00 UTC          NaN   \n",
       "120    2021-07-09  SWEEPING  2021-07-09 12:00:00 UTC          NaN   \n",
       "\n",
       "       dropoff_site  \n",
       "124     ONION CREEK  \n",
       "125     ONION CREEK  \n",
       "126     ONION CREEK  \n",
       "19133   ONION CREEK  \n",
       "19134   ONION CREEK  \n",
       "...             ...  \n",
       "206    HORNSBY BEND  \n",
       "148     ONION CREEK  \n",
       "47      ONION CREEK  \n",
       "109     ONION CREEK  \n",
       "120     ONION CREEK  \n",
       "\n",
       "[445 rows x 5 columns]"
      ]
     },
     "execution_count": 1049,
     "metadata": {},
     "output_type": "execute_result"
    }
   ],
   "source": [
    "# menampilkan baris yang terduplikasi\n",
    "duplicate = df[df.duplicated()]\n",
    "duplicate.sort_values(by=[\"report_date\"])"
   ]
  },
  {
   "attachments": {},
   "cell_type": "markdown",
   "metadata": {},
   "source": [
    "Dari tabel diatas diketahui sebanyak __445__ baris terduplikasi."
   ]
  },
  {
   "attachments": {},
   "cell_type": "markdown",
   "metadata": {},
   "source": [
    "## Data Cleaning"
   ]
  },
  {
   "attachments": {},
   "cell_type": "markdown",
   "metadata": {},
   "source": [
    "Dibagian ini menjelaskan mengenai cara melakukan data cleaning dimulai dari menghapus data yang terduplikasi, mengidentifikasi missing value dan menangani missing value."
   ]
  },
  {
   "attachments": {},
   "cell_type": "markdown",
   "metadata": {},
   "source": [
    "### Drop Baris Yang Terduplikasi"
   ]
  },
  {
   "attachments": {},
   "cell_type": "markdown",
   "metadata": {},
   "source": [
    "Untuk menghapus baris yang terduplikasi digunakan fungsi `pandas.DataFrame.drop_duplicates()`."
   ]
  },
  {
   "cell_type": "code",
   "execution_count": 1050,
   "metadata": {},
   "outputs": [],
   "source": [
    "# menyalin dataset\n",
    "df_copy =df.copy()"
   ]
  },
  {
   "cell_type": "code",
   "execution_count": 1051,
   "metadata": {},
   "outputs": [],
   "source": [
    "# Menghapus baris yang terduplikasi\n",
    "df_copy = df_copy.drop_duplicates()"
   ]
  },
  {
   "cell_type": "code",
   "execution_count": 1052,
   "metadata": {},
   "outputs": [
    {
     "data": {
      "text/plain": [
       "False    25712\n",
       "dtype: int64"
      ]
     },
     "execution_count": 1052,
     "metadata": {},
     "output_type": "execute_result"
    }
   ],
   "source": [
    "# cek ulang apakah masih ada baris yang terduplikasi\n",
    "df_copy.duplicated().value_counts()"
   ]
  },
  {
   "attachments": {},
   "cell_type": "markdown",
   "metadata": {},
   "source": [
    "Baris yang terduplikasi sekarang sudah terhapus. Jumlah baris keseluruhan dari dataset menjadi __25.712__ baris."
   ]
  },
  {
   "attachments": {},
   "cell_type": "markdown",
   "metadata": {},
   "source": [
    "### Identifikasi Missing Value"
   ]
  },
  {
   "attachments": {},
   "cell_type": "markdown",
   "metadata": {},
   "source": [
    "Untuk menidentifikasi kolom mana sajakah yang memiliki missing value digunakan fungsi `pandas.DataFrame.isnull().sum()`."
   ]
  },
  {
   "cell_type": "code",
   "execution_count": 1053,
   "metadata": {},
   "outputs": [
    {
     "data": {
      "text/plain": [
       "report_date       0\n",
       "load_type         0\n",
       "load_time         0\n",
       "load_weight     629\n",
       "dropoff_site      0\n",
       "dtype: int64"
      ]
     },
     "execution_count": 1053,
     "metadata": {},
     "output_type": "execute_result"
    }
   ],
   "source": [
    "# Mengidentifikasi kolom mana saja yang memiliki missing value\n",
    "df_copy.isnull().sum()"
   ]
  },
  {
   "attachments": {},
   "cell_type": "markdown",
   "metadata": {},
   "source": [
    "Diketahui terdapat __629__ baris dari total __25.712__ baris atau sekitar __2.45%__.yang tidak memiliki nilai di kolom `load_weight`."
   ]
  },
  {
   "attachments": {},
   "cell_type": "markdown",
   "metadata": {},
   "source": [
    "### Mengatasi Missing Value"
   ]
  },
  {
   "attachments": {},
   "cell_type": "markdown",
   "metadata": {},
   "source": [
    "__629__ baris tersebut dapat dihapus karena persentase missing value nya __< 5%__ dari keseluruhan. Cara menghapusnya dapat menggunakan `dataframe.dropna()`."
   ]
  },
  {
   "cell_type": "code",
   "execution_count": 1054,
   "metadata": {},
   "outputs": [],
   "source": [
    "#menghapus baris yang memiliki missing value\n",
    "df_copy.dropna(inplace=True)"
   ]
  },
  {
   "cell_type": "code",
   "execution_count": 1055,
   "metadata": {},
   "outputs": [
    {
     "data": {
      "text/plain": [
       "report_date     0\n",
       "load_type       0\n",
       "load_time       0\n",
       "load_weight     0\n",
       "dropoff_site    0\n",
       "dtype: int64"
      ]
     },
     "execution_count": 1055,
     "metadata": {},
     "output_type": "execute_result"
    }
   ],
   "source": [
    "#cek kembali apakah masih memiliki missing value\n",
    "df_copy.isnull().sum()"
   ]
  },
  {
   "cell_type": "code",
   "execution_count": 1056,
   "metadata": {},
   "outputs": [
    {
     "data": {
      "text/plain": [
       "(25083, 5)"
      ]
     },
     "execution_count": 1056,
     "metadata": {},
     "output_type": "execute_result"
    }
   ],
   "source": [
    "# mengetahui jumlah baris setelah diatasi missing valuenya\n",
    "df_copy.shape"
   ]
  },
  {
   "attachments": {},
   "cell_type": "markdown",
   "metadata": {},
   "source": [
    "Dataset sekarang sudah tidak memiliki missing value selanjutnya siap digunakan. Jumlah baris yang semula __25.712__ menjadi __25.083__ baris."
   ]
  },
  {
   "attachments": {},
   "cell_type": "markdown",
   "metadata": {},
   "source": [
    "# Data Exploration"
   ]
  },
  {
   "attachments": {},
   "cell_type": "markdown",
   "metadata": {},
   "source": [
    "Data exploration yang dilakukan antara lain melihat rentang waktu pengambilan data, mengetahui jenis muatan sampah dan mengetahui lokasi tempat pembuangan sampah."
   ]
  },
  {
   "attachments": {},
   "cell_type": "markdown",
   "metadata": {},
   "source": [
    "## - Melihat rentang waktu pengambilan data:"
   ]
  },
  {
   "cell_type": "code",
   "execution_count": 1057,
   "metadata": {},
   "outputs": [
    {
     "data": {
      "text/html": [
       "<div>\n",
       "<style scoped>\n",
       "    .dataframe tbody tr th:only-of-type {\n",
       "        vertical-align: middle;\n",
       "    }\n",
       "\n",
       "    .dataframe tbody tr th {\n",
       "        vertical-align: top;\n",
       "    }\n",
       "\n",
       "    .dataframe thead th {\n",
       "        text-align: right;\n",
       "    }\n",
       "</style>\n",
       "<table border=\"1\" class=\"dataframe\">\n",
       "  <thead>\n",
       "    <tr style=\"text-align: right;\">\n",
       "      <th></th>\n",
       "      <th>report_date</th>\n",
       "      <th>load_type</th>\n",
       "      <th>load_time</th>\n",
       "      <th>load_weight</th>\n",
       "      <th>dropoff_site</th>\n",
       "    </tr>\n",
       "  </thead>\n",
       "  <tbody>\n",
       "    <tr>\n",
       "      <th>19228</th>\n",
       "      <td>2021-01-02</td>\n",
       "      <td>ORGANICS</td>\n",
       "      <td>2021-01-04 07:04:00 UTC</td>\n",
       "      <td>8460.0</td>\n",
       "      <td>ORGANICS BY GOSH</td>\n",
       "    </tr>\n",
       "    <tr>\n",
       "      <th>19161</th>\n",
       "      <td>2021-01-02</td>\n",
       "      <td>GARBAGE COLLECTIONS</td>\n",
       "      <td>2021-01-02 12:56:00 UTC</td>\n",
       "      <td>17160.0</td>\n",
       "      <td>TDS LANDFILL</td>\n",
       "    </tr>\n",
       "    <tr>\n",
       "      <th>19162</th>\n",
       "      <td>2021-01-02</td>\n",
       "      <td>GARBAGE COLLECTIONS</td>\n",
       "      <td>2021-01-02 01:42:00 UTC</td>\n",
       "      <td>15240.0</td>\n",
       "      <td>TDS LANDFILL</td>\n",
       "    </tr>\n",
       "    <tr>\n",
       "      <th>19163</th>\n",
       "      <td>2021-01-02</td>\n",
       "      <td>MIXED LITTER</td>\n",
       "      <td>2021-01-02 08:47:00 UTC</td>\n",
       "      <td>4540.0</td>\n",
       "      <td>TDS LANDFILL</td>\n",
       "    </tr>\n",
       "    <tr>\n",
       "      <th>19164</th>\n",
       "      <td>2021-01-02</td>\n",
       "      <td>MIXED LITTER</td>\n",
       "      <td>2021-01-02 11:34:00 UTC</td>\n",
       "      <td>6620.0</td>\n",
       "      <td>TDS LANDFILL</td>\n",
       "    </tr>\n",
       "    <tr>\n",
       "      <th>...</th>\n",
       "      <td>...</td>\n",
       "      <td>...</td>\n",
       "      <td>...</td>\n",
       "      <td>...</td>\n",
       "      <td>...</td>\n",
       "    </tr>\n",
       "    <tr>\n",
       "      <th>211</th>\n",
       "      <td>2021-07-09</td>\n",
       "      <td>BRUSH</td>\n",
       "      <td>2021-07-09 06:00:00 UTC</td>\n",
       "      <td>5500.0</td>\n",
       "      <td>HORNSBY BEND</td>\n",
       "    </tr>\n",
       "    <tr>\n",
       "      <th>207</th>\n",
       "      <td>2021-07-09</td>\n",
       "      <td>BRUSH</td>\n",
       "      <td>2021-07-09 02:57:00 UTC</td>\n",
       "      <td>5500.0</td>\n",
       "      <td>HORNSBY BEND</td>\n",
       "    </tr>\n",
       "    <tr>\n",
       "      <th>208</th>\n",
       "      <td>2021-07-09</td>\n",
       "      <td>BRUSH</td>\n",
       "      <td>2021-07-09 03:45:00 UTC</td>\n",
       "      <td>5500.0</td>\n",
       "      <td>HORNSBY BEND</td>\n",
       "    </tr>\n",
       "    <tr>\n",
       "      <th>210</th>\n",
       "      <td>2021-07-09</td>\n",
       "      <td>BRUSH</td>\n",
       "      <td>2021-07-09 01:12:00 UTC</td>\n",
       "      <td>7000.0</td>\n",
       "      <td>HORNSBY BEND</td>\n",
       "    </tr>\n",
       "    <tr>\n",
       "      <th>205</th>\n",
       "      <td>2021-07-09</td>\n",
       "      <td>BRUSH</td>\n",
       "      <td>2021-07-09 05:40:00 UTC</td>\n",
       "      <td>5500.0</td>\n",
       "      <td>HORNSBY BEND</td>\n",
       "    </tr>\n",
       "  </tbody>\n",
       "</table>\n",
       "<p>25083 rows × 5 columns</p>\n",
       "</div>"
      ],
      "text/plain": [
       "      report_date            load_type                load_time  load_weight  \\\n",
       "19228  2021-01-02             ORGANICS  2021-01-04 07:04:00 UTC       8460.0   \n",
       "19161  2021-01-02  GARBAGE COLLECTIONS  2021-01-02 12:56:00 UTC      17160.0   \n",
       "19162  2021-01-02  GARBAGE COLLECTIONS  2021-01-02 01:42:00 UTC      15240.0   \n",
       "19163  2021-01-02         MIXED LITTER  2021-01-02 08:47:00 UTC       4540.0   \n",
       "19164  2021-01-02         MIXED LITTER  2021-01-02 11:34:00 UTC       6620.0   \n",
       "...           ...                  ...                      ...          ...   \n",
       "211    2021-07-09                BRUSH  2021-07-09 06:00:00 UTC       5500.0   \n",
       "207    2021-07-09                BRUSH  2021-07-09 02:57:00 UTC       5500.0   \n",
       "208    2021-07-09                BRUSH  2021-07-09 03:45:00 UTC       5500.0   \n",
       "210    2021-07-09                BRUSH  2021-07-09 01:12:00 UTC       7000.0   \n",
       "205    2021-07-09                BRUSH  2021-07-09 05:40:00 UTC       5500.0   \n",
       "\n",
       "           dropoff_site  \n",
       "19228  ORGANICS BY GOSH  \n",
       "19161      TDS LANDFILL  \n",
       "19162      TDS LANDFILL  \n",
       "19163      TDS LANDFILL  \n",
       "19164      TDS LANDFILL  \n",
       "...                 ...  \n",
       "211        HORNSBY BEND  \n",
       "207        HORNSBY BEND  \n",
       "208        HORNSBY BEND  \n",
       "210        HORNSBY BEND  \n",
       "205        HORNSBY BEND  \n",
       "\n",
       "[25083 rows x 5 columns]"
      ]
     },
     "execution_count": 1057,
     "metadata": {},
     "output_type": "execute_result"
    }
   ],
   "source": [
    "# sort by date agar diketahui tanggal awal dan akhir nya.\n",
    "df_copy.sort_values(by=[\"report_date\"])"
   ]
  },
  {
   "attachments": {},
   "cell_type": "markdown",
   "metadata": {},
   "source": [
    "Cara untuk melihat rentang waktu pengambilan data yaitu dengan mencari nilai minimum dan maksimum dari kolom `report_date` menggunakan fungsi `.min() `dan `.max()`."
   ]
  },
  {
   "cell_type": "code",
   "execution_count": 1058,
   "metadata": {},
   "outputs": [
    {
     "data": {
      "text/plain": [
       "'2021-01-02'"
      ]
     },
     "execution_count": 1058,
     "metadata": {},
     "output_type": "execute_result"
    }
   ],
   "source": [
    "#menampilkan tanggal pertama kali pencatatan data\n",
    "df_copy[\"report_date\"].min()"
   ]
  },
  {
   "cell_type": "code",
   "execution_count": 1059,
   "metadata": {},
   "outputs": [
    {
     "data": {
      "text/plain": [
       "'2021-07-09'"
      ]
     },
     "execution_count": 1059,
     "metadata": {},
     "output_type": "execute_result"
    }
   ],
   "source": [
    "#menampilkan tanggal terakhir kali pencatatan data\n",
    "df_copy[\"report_date\"].max()"
   ]
  },
  {
   "attachments": {},
   "cell_type": "markdown",
   "metadata": {},
   "source": [
    "Diketahui rentang waktu pengambilan data yaitu __2021-01-01__ hingga __2021-07-09__."
   ]
  },
  {
   "attachments": {},
   "cell_type": "markdown",
   "metadata": {},
   "source": [
    "## - Mengetahui apa saja jenis muatan sampah di kota Austin"
   ]
  },
  {
   "attachments": {},
   "cell_type": "markdown",
   "metadata": {},
   "source": [
    "Untuk mengetahui jenis muatan sampah apa saja di kota Austin dapat menggunakan fungsi `pandas.Series.value_counts()` pada kolom `load_type`."
   ]
  },
  {
   "cell_type": "code",
   "execution_count": 1060,
   "metadata": {},
   "outputs": [
    {
     "data": {
      "text/plain": [
       "GARBAGE COLLECTIONS          8235\n",
       "RECYCLING - SINGLE STREAM    6754\n",
       "ORGANICS                     5740\n",
       "BULK                         1594\n",
       "BRUSH                        1510\n",
       "SWEEPING                      360\n",
       "MIXED LITTER                  328\n",
       "TIRES                         175\n",
       "DEAD ANIMAL                   150\n",
       "YARD TRIMMING                 137\n",
       "RECYCLED METAL                 57\n",
       "LITTER                         41\n",
       "CONTAMINATED RECYCLING          1\n",
       "CONTAMINATED ORGANICS           1\n",
       "Name: load_type, dtype: int64"
      ]
     },
     "execution_count": 1060,
     "metadata": {},
     "output_type": "execute_result"
    }
   ],
   "source": [
    "#menampilkan jenis sampah (load_type)\n",
    "df_copy[\"load_type\"].value_counts()"
   ]
  },
  {
   "attachments": {},
   "cell_type": "markdown",
   "metadata": {},
   "source": [
    "Diketahui jenis muatan sampah di kota Austin yaitu: __GARBAGE COLLECTIONS, RECYCLING - SINGLE STREAM, ORGANICS, BULK, BRUSH, SWEEPING, MIXED LITTER, TIRES, DEAD ANIMAL, YARD TRIMMING, RECYCLED METAL, LITTER, CONTAMINATED RECYCLING dan CONTAMINATED ORGANICS__."
   ]
  },
  {
   "attachments": {},
   "cell_type": "markdown",
   "metadata": {},
   "source": [
    "## - Mengetahui lokasi tempat pembuangan sampah dimana saja"
   ]
  },
  {
   "attachments": {},
   "cell_type": "markdown",
   "metadata": {},
   "source": [
    "Untuk mengetahui dimana saja lokasi tempat pembuangan sampah dapat menggunakan fungsi `pandas.Series.value_counts()` pada kolom `dropoff_site`."
   ]
  },
  {
   "cell_type": "code",
   "execution_count": 1061,
   "metadata": {},
   "outputs": [
    {
     "data": {
      "text/plain": [
       "TDS LANDFILL             10684\n",
       "ORGANICS BY GOSH          5732\n",
       "BALCONES RECYCLING        3832\n",
       "TDS - MRF                 2947\n",
       "HORNSBY BEND              1648\n",
       "MRF                        168\n",
       "AUSTIN IRON AND METAL       50\n",
       "ON ROUTE HIGH DUMP           7\n",
       "GREAT NORTHERN               6\n",
       "PARK BEND                    4\n",
       "AUSTIN WOOD RECYCLING        2\n",
       "BALCONES WOODS               1\n",
       "STEINER LANDFILL             1\n",
       "WESTFIELD                    1\n",
       "Name: dropoff_site, dtype: int64"
      ]
     },
     "execution_count": 1061,
     "metadata": {},
     "output_type": "execute_result"
    }
   ],
   "source": [
    "#menampilkan lokasi tempat pembuangan (dropoff_site)\n",
    "df_copy[\"dropoff_site\"].value_counts()"
   ]
  },
  {
   "attachments": {},
   "cell_type": "markdown",
   "metadata": {},
   "source": [
    "Diketahui lokasi tempat pembuangan sampah di kota Austin yaitu: __TDS LANDFILL, ORGANICS BY GOSH, BALCONES RECYCLING, TDS - MRF, HORNSBY BEND, ONION CREEK, MRF, ON ROUTE HIGH DUMP, PARK CENTER, GREAT NORTHERN, AUSTIN IRON AND METAL, PARK BEND, AUSTIN WOOD RECYCLING, BALCONES WOODS, STEINER LANDFILL dan WESTFIELD__."
   ]
  },
  {
   "attachments": {},
   "cell_type": "markdown",
   "metadata": {},
   "source": [
    "# Central Tendency"
   ]
  },
  {
   "attachments": {},
   "cell_type": "markdown",
   "metadata": {},
   "source": [
    "Central tendency yang dilakukan yaitu menghitung mean, median dan modus nilai berat muatan berdasarkan tempat pembuangannya."
   ]
  },
  {
   "attachments": {},
   "cell_type": "markdown",
   "metadata": {},
   "source": [
    "## Mean masing-masing site."
   ]
  },
  {
   "attachments": {},
   "cell_type": "markdown",
   "metadata": {},
   "source": [
    "Untuk mencari nilai rata-rata (_mean_) berat muatan untuk masing-masing tempat pembuangan digunakan fungsi `dataframe.groupby.mean()`. Di groupby berdasarkan `dropoff_site` terhadap `load_weight`."
   ]
  },
  {
   "cell_type": "code",
   "execution_count": 1062,
   "metadata": {},
   "outputs": [
    {
     "data": {
      "text/html": [
       "<div>\n",
       "<style scoped>\n",
       "    .dataframe tbody tr th:only-of-type {\n",
       "        vertical-align: middle;\n",
       "    }\n",
       "\n",
       "    .dataframe tbody tr th {\n",
       "        vertical-align: top;\n",
       "    }\n",
       "\n",
       "    .dataframe thead th {\n",
       "        text-align: right;\n",
       "    }\n",
       "</style>\n",
       "<table border=\"1\" class=\"dataframe\">\n",
       "  <thead>\n",
       "    <tr style=\"text-align: right;\">\n",
       "      <th></th>\n",
       "      <th>load_weight</th>\n",
       "    </tr>\n",
       "    <tr>\n",
       "      <th>dropoff_site</th>\n",
       "      <th></th>\n",
       "    </tr>\n",
       "  </thead>\n",
       "  <tbody>\n",
       "    <tr>\n",
       "      <th>AUSTIN IRON AND METAL</th>\n",
       "      <td>451.200000</td>\n",
       "    </tr>\n",
       "    <tr>\n",
       "      <th>AUSTIN WOOD RECYCLING</th>\n",
       "      <td>4050.000000</td>\n",
       "    </tr>\n",
       "    <tr>\n",
       "      <th>BALCONES RECYCLING</th>\n",
       "      <td>9464.934760</td>\n",
       "    </tr>\n",
       "    <tr>\n",
       "      <th>BALCONES WOODS</th>\n",
       "      <td>8460.000000</td>\n",
       "    </tr>\n",
       "    <tr>\n",
       "      <th>GREAT NORTHERN</th>\n",
       "      <td>19153.333333</td>\n",
       "    </tr>\n",
       "    <tr>\n",
       "      <th>HORNSBY BEND</th>\n",
       "      <td>6636.638350</td>\n",
       "    </tr>\n",
       "    <tr>\n",
       "      <th>MRF</th>\n",
       "      <td>1799.982143</td>\n",
       "    </tr>\n",
       "    <tr>\n",
       "      <th>ON ROUTE HIGH DUMP</th>\n",
       "      <td>12525.714286</td>\n",
       "    </tr>\n",
       "    <tr>\n",
       "      <th>ORGANICS BY GOSH</th>\n",
       "      <td>11824.135729</td>\n",
       "    </tr>\n",
       "    <tr>\n",
       "      <th>PARK BEND</th>\n",
       "      <td>13385.000000</td>\n",
       "    </tr>\n",
       "    <tr>\n",
       "      <th>STEINER LANDFILL</th>\n",
       "      <td>780.000000</td>\n",
       "    </tr>\n",
       "    <tr>\n",
       "      <th>TDS - MRF</th>\n",
       "      <td>9872.439769</td>\n",
       "    </tr>\n",
       "    <tr>\n",
       "      <th>TDS LANDFILL</th>\n",
       "      <td>15168.516711</td>\n",
       "    </tr>\n",
       "    <tr>\n",
       "      <th>WESTFIELD</th>\n",
       "      <td>16020.000000</td>\n",
       "    </tr>\n",
       "  </tbody>\n",
       "</table>\n",
       "</div>"
      ],
      "text/plain": [
       "                        load_weight\n",
       "dropoff_site                       \n",
       "AUSTIN IRON AND METAL    451.200000\n",
       "AUSTIN WOOD RECYCLING   4050.000000\n",
       "BALCONES RECYCLING      9464.934760\n",
       "BALCONES WOODS          8460.000000\n",
       "GREAT NORTHERN         19153.333333\n",
       "HORNSBY BEND            6636.638350\n",
       "MRF                     1799.982143\n",
       "ON ROUTE HIGH DUMP     12525.714286\n",
       "ORGANICS BY GOSH       11824.135729\n",
       "PARK BEND              13385.000000\n",
       "STEINER LANDFILL         780.000000\n",
       "TDS - MRF               9872.439769\n",
       "TDS LANDFILL           15168.516711\n",
       "WESTFIELD              16020.000000"
      ]
     },
     "execution_count": 1062,
     "metadata": {},
     "output_type": "execute_result"
    }
   ],
   "source": [
    "#mencari mean\n",
    "df_copy.groupby(by=\"dropoff_site\",sort=True)[\"load_weight\"].apply(pd.Series.mean).to_frame()"
   ]
  },
  {
   "attachments": {},
   "cell_type": "markdown",
   "metadata": {},
   "source": [
    "Tabel diatas menampilkan nilai rata-rata (_mean_) berat muatan pada masing-masing tempat pembuangan. Sebagai contoh di tempat pembuangan  __AUSTIN IRON AND METAL__ memiliki nilai rata-rata berat muatan sebesar 451.2 kg."
   ]
  },
  {
   "attachments": {},
   "cell_type": "markdown",
   "metadata": {},
   "source": [
    "## Median masing-masing site."
   ]
  },
  {
   "attachments": {},
   "cell_type": "markdown",
   "metadata": {},
   "source": [
    "Untuk mencari nilai tengah (_median_) berat muatan untuk masing-masing tempat pembuangan digunakan fungsi `dataframe.groupby.median()`. Di groupby berdasarkan `dropoff_site` terhadap `load_weight`."
   ]
  },
  {
   "cell_type": "code",
   "execution_count": 1063,
   "metadata": {},
   "outputs": [
    {
     "data": {
      "text/html": [
       "<div>\n",
       "<style scoped>\n",
       "    .dataframe tbody tr th:only-of-type {\n",
       "        vertical-align: middle;\n",
       "    }\n",
       "\n",
       "    .dataframe tbody tr th {\n",
       "        vertical-align: top;\n",
       "    }\n",
       "\n",
       "    .dataframe thead th {\n",
       "        text-align: right;\n",
       "    }\n",
       "</style>\n",
       "<table border=\"1\" class=\"dataframe\">\n",
       "  <thead>\n",
       "    <tr style=\"text-align: right;\">\n",
       "      <th></th>\n",
       "      <th>load_weight</th>\n",
       "    </tr>\n",
       "    <tr>\n",
       "      <th>dropoff_site</th>\n",
       "      <th></th>\n",
       "    </tr>\n",
       "  </thead>\n",
       "  <tbody>\n",
       "    <tr>\n",
       "      <th>AUSTIN IRON AND METAL</th>\n",
       "      <td>400.0</td>\n",
       "    </tr>\n",
       "    <tr>\n",
       "      <th>AUSTIN WOOD RECYCLING</th>\n",
       "      <td>4050.0</td>\n",
       "    </tr>\n",
       "    <tr>\n",
       "      <th>BALCONES RECYCLING</th>\n",
       "      <td>9840.0</td>\n",
       "    </tr>\n",
       "    <tr>\n",
       "      <th>BALCONES WOODS</th>\n",
       "      <td>8460.0</td>\n",
       "    </tr>\n",
       "    <tr>\n",
       "      <th>GREAT NORTHERN</th>\n",
       "      <td>21110.0</td>\n",
       "    </tr>\n",
       "    <tr>\n",
       "      <th>HORNSBY BEND</th>\n",
       "      <td>6400.0</td>\n",
       "    </tr>\n",
       "    <tr>\n",
       "      <th>MRF</th>\n",
       "      <td>1360.0</td>\n",
       "    </tr>\n",
       "    <tr>\n",
       "      <th>ON ROUTE HIGH DUMP</th>\n",
       "      <td>14940.0</td>\n",
       "    </tr>\n",
       "    <tr>\n",
       "      <th>ORGANICS BY GOSH</th>\n",
       "      <td>11920.0</td>\n",
       "    </tr>\n",
       "    <tr>\n",
       "      <th>PARK BEND</th>\n",
       "      <td>12330.0</td>\n",
       "    </tr>\n",
       "    <tr>\n",
       "      <th>STEINER LANDFILL</th>\n",
       "      <td>780.0</td>\n",
       "    </tr>\n",
       "    <tr>\n",
       "      <th>TDS - MRF</th>\n",
       "      <td>10340.0</td>\n",
       "    </tr>\n",
       "    <tr>\n",
       "      <th>TDS LANDFILL</th>\n",
       "      <td>14920.0</td>\n",
       "    </tr>\n",
       "    <tr>\n",
       "      <th>WESTFIELD</th>\n",
       "      <td>16020.0</td>\n",
       "    </tr>\n",
       "  </tbody>\n",
       "</table>\n",
       "</div>"
      ],
      "text/plain": [
       "                       load_weight\n",
       "dropoff_site                      \n",
       "AUSTIN IRON AND METAL        400.0\n",
       "AUSTIN WOOD RECYCLING       4050.0\n",
       "BALCONES RECYCLING          9840.0\n",
       "BALCONES WOODS              8460.0\n",
       "GREAT NORTHERN             21110.0\n",
       "HORNSBY BEND                6400.0\n",
       "MRF                         1360.0\n",
       "ON ROUTE HIGH DUMP         14940.0\n",
       "ORGANICS BY GOSH           11920.0\n",
       "PARK BEND                  12330.0\n",
       "STEINER LANDFILL             780.0\n",
       "TDS - MRF                  10340.0\n",
       "TDS LANDFILL               14920.0\n",
       "WESTFIELD                  16020.0"
      ]
     },
     "execution_count": 1063,
     "metadata": {},
     "output_type": "execute_result"
    }
   ],
   "source": [
    "#mencari median\n",
    "df_copy.groupby(by=\"dropoff_site\",sort=True)[\"load_weight\"].apply(pd.Series.median).to_frame()"
   ]
  },
  {
   "attachments": {},
   "cell_type": "markdown",
   "metadata": {},
   "source": [
    "Tabel diatas menampilkan nilai tengah (_median_) berat muatan pada masing-masing tempat pembuangan. Sebagai contoh tempat pembuangan  __AUSTIN IRON AND METAL__ memiliki nilai tengah berat muatan sebesar 400 kg."
   ]
  },
  {
   "attachments": {},
   "cell_type": "markdown",
   "metadata": {},
   "source": [
    "## Modus masing-masing site."
   ]
  },
  {
   "attachments": {},
   "cell_type": "markdown",
   "metadata": {},
   "source": [
    "Untuk mencari nilai berat muatan yang paling sering muncul (_modus_) untuk masing-masing site digunakan fungsi `dataframe.groupby.mode()`. Di groupby berdasarkan `dropoff_site` terhadap `load_weight`."
   ]
  },
  {
   "cell_type": "code",
   "execution_count": 1064,
   "metadata": {},
   "outputs": [
    {
     "data": {
      "text/html": [
       "<div>\n",
       "<style scoped>\n",
       "    .dataframe tbody tr th:only-of-type {\n",
       "        vertical-align: middle;\n",
       "    }\n",
       "\n",
       "    .dataframe tbody tr th {\n",
       "        vertical-align: top;\n",
       "    }\n",
       "\n",
       "    .dataframe thead th {\n",
       "        text-align: right;\n",
       "    }\n",
       "</style>\n",
       "<table border=\"1\" class=\"dataframe\">\n",
       "  <thead>\n",
       "    <tr style=\"text-align: right;\">\n",
       "      <th></th>\n",
       "      <th></th>\n",
       "      <th>load_weight</th>\n",
       "    </tr>\n",
       "    <tr>\n",
       "      <th>dropoff_site</th>\n",
       "      <th></th>\n",
       "      <th></th>\n",
       "    </tr>\n",
       "  </thead>\n",
       "  <tbody>\n",
       "    <tr>\n",
       "      <th rowspan=\"3\" valign=\"top\">AUSTIN IRON AND METAL</th>\n",
       "      <th>0</th>\n",
       "      <td>260.0</td>\n",
       "    </tr>\n",
       "    <tr>\n",
       "      <th>1</th>\n",
       "      <td>320.0</td>\n",
       "    </tr>\n",
       "    <tr>\n",
       "      <th>2</th>\n",
       "      <td>520.0</td>\n",
       "    </tr>\n",
       "    <tr>\n",
       "      <th rowspan=\"2\" valign=\"top\">AUSTIN WOOD RECYCLING</th>\n",
       "      <th>0</th>\n",
       "      <td>2340.0</td>\n",
       "    </tr>\n",
       "    <tr>\n",
       "      <th>1</th>\n",
       "      <td>5760.0</td>\n",
       "    </tr>\n",
       "    <tr>\n",
       "      <th>BALCONES RECYCLING</th>\n",
       "      <th>0</th>\n",
       "      <td>11880.0</td>\n",
       "    </tr>\n",
       "    <tr>\n",
       "      <th>BALCONES WOODS</th>\n",
       "      <th>0</th>\n",
       "      <td>8460.0</td>\n",
       "    </tr>\n",
       "    <tr>\n",
       "      <th rowspan=\"6\" valign=\"top\">GREAT NORTHERN</th>\n",
       "      <th>0</th>\n",
       "      <td>8700.0</td>\n",
       "    </tr>\n",
       "    <tr>\n",
       "      <th>1</th>\n",
       "      <td>17160.0</td>\n",
       "    </tr>\n",
       "    <tr>\n",
       "      <th>2</th>\n",
       "      <td>20900.0</td>\n",
       "    </tr>\n",
       "    <tr>\n",
       "      <th>3</th>\n",
       "      <td>21320.0</td>\n",
       "    </tr>\n",
       "    <tr>\n",
       "      <th>4</th>\n",
       "      <td>21960.0</td>\n",
       "    </tr>\n",
       "    <tr>\n",
       "      <th>5</th>\n",
       "      <td>24880.0</td>\n",
       "    </tr>\n",
       "    <tr>\n",
       "      <th>HORNSBY BEND</th>\n",
       "      <th>0</th>\n",
       "      <td>5500.0</td>\n",
       "    </tr>\n",
       "    <tr>\n",
       "      <th>MRF</th>\n",
       "      <th>0</th>\n",
       "      <td>960.0</td>\n",
       "    </tr>\n",
       "    <tr>\n",
       "      <th rowspan=\"7\" valign=\"top\">ON ROUTE HIGH DUMP</th>\n",
       "      <th>0</th>\n",
       "      <td>4060.0</td>\n",
       "    </tr>\n",
       "    <tr>\n",
       "      <th>1</th>\n",
       "      <td>7480.0</td>\n",
       "    </tr>\n",
       "    <tr>\n",
       "      <th>2</th>\n",
       "      <td>12500.0</td>\n",
       "    </tr>\n",
       "    <tr>\n",
       "      <th>3</th>\n",
       "      <td>14940.0</td>\n",
       "    </tr>\n",
       "    <tr>\n",
       "      <th>4</th>\n",
       "      <td>15040.0</td>\n",
       "    </tr>\n",
       "    <tr>\n",
       "      <th>5</th>\n",
       "      <td>15200.0</td>\n",
       "    </tr>\n",
       "    <tr>\n",
       "      <th>6</th>\n",
       "      <td>18460.0</td>\n",
       "    </tr>\n",
       "    <tr>\n",
       "      <th>ORGANICS BY GOSH</th>\n",
       "      <th>0</th>\n",
       "      <td>14580.0</td>\n",
       "    </tr>\n",
       "    <tr>\n",
       "      <th rowspan=\"4\" valign=\"top\">PARK BEND</th>\n",
       "      <th>0</th>\n",
       "      <td>8480.0</td>\n",
       "    </tr>\n",
       "    <tr>\n",
       "      <th>1</th>\n",
       "      <td>8960.0</td>\n",
       "    </tr>\n",
       "    <tr>\n",
       "      <th>2</th>\n",
       "      <td>15700.0</td>\n",
       "    </tr>\n",
       "    <tr>\n",
       "      <th>3</th>\n",
       "      <td>20400.0</td>\n",
       "    </tr>\n",
       "    <tr>\n",
       "      <th>STEINER LANDFILL</th>\n",
       "      <th>0</th>\n",
       "      <td>780.0</td>\n",
       "    </tr>\n",
       "    <tr>\n",
       "      <th>TDS - MRF</th>\n",
       "      <th>0</th>\n",
       "      <td>10360.0</td>\n",
       "    </tr>\n",
       "    <tr>\n",
       "      <th rowspan=\"3\" valign=\"top\">TDS LANDFILL</th>\n",
       "      <th>0</th>\n",
       "      <td>20.0</td>\n",
       "    </tr>\n",
       "    <tr>\n",
       "      <th>1</th>\n",
       "      <td>60.0</td>\n",
       "    </tr>\n",
       "    <tr>\n",
       "      <th>2</th>\n",
       "      <td>12020.0</td>\n",
       "    </tr>\n",
       "    <tr>\n",
       "      <th>WESTFIELD</th>\n",
       "      <th>0</th>\n",
       "      <td>16020.0</td>\n",
       "    </tr>\n",
       "  </tbody>\n",
       "</table>\n",
       "</div>"
      ],
      "text/plain": [
       "                         load_weight\n",
       "dropoff_site                        \n",
       "AUSTIN IRON AND METAL 0        260.0\n",
       "                      1        320.0\n",
       "                      2        520.0\n",
       "AUSTIN WOOD RECYCLING 0       2340.0\n",
       "                      1       5760.0\n",
       "BALCONES RECYCLING    0      11880.0\n",
       "BALCONES WOODS        0       8460.0\n",
       "GREAT NORTHERN        0       8700.0\n",
       "                      1      17160.0\n",
       "                      2      20900.0\n",
       "                      3      21320.0\n",
       "                      4      21960.0\n",
       "                      5      24880.0\n",
       "HORNSBY BEND          0       5500.0\n",
       "MRF                   0        960.0\n",
       "ON ROUTE HIGH DUMP    0       4060.0\n",
       "                      1       7480.0\n",
       "                      2      12500.0\n",
       "                      3      14940.0\n",
       "                      4      15040.0\n",
       "                      5      15200.0\n",
       "                      6      18460.0\n",
       "ORGANICS BY GOSH      0      14580.0\n",
       "PARK BEND             0       8480.0\n",
       "                      1       8960.0\n",
       "                      2      15700.0\n",
       "                      3      20400.0\n",
       "STEINER LANDFILL      0        780.0\n",
       "TDS - MRF             0      10360.0\n",
       "TDS LANDFILL          0         20.0\n",
       "                      1         60.0\n",
       "                      2      12020.0\n",
       "WESTFIELD             0      16020.0"
      ]
     },
     "execution_count": 1064,
     "metadata": {},
     "output_type": "execute_result"
    }
   ],
   "source": [
    "#mencari modus\n",
    "df_copy.groupby(by=\"dropoff_site\",sort=True)[\"load_weight\"].apply(pd.Series.mode).to_frame()"
   ]
  },
  {
   "attachments": {},
   "cell_type": "markdown",
   "metadata": {},
   "source": [
    "Tabel diatas menampilkan nilai yang paling sering muncul (_modus_) berat muatan di masing-masing tempat pembuangan. Sebagai contoh pada tempat pembuangan __AUSTIN IRON AND METAL__ memiliki 3 nilai berat muatan yang paling sering muncul yaitu sebesar 260 kg, 320 kg dan 520 kg."
   ]
  },
  {
   "attachments": {},
   "cell_type": "markdown",
   "metadata": {},
   "source": [
    "# Tempat pembuangan yang diamati"
   ]
  },
  {
   "cell_type": "code",
   "execution_count": 1065,
   "metadata": {},
   "outputs": [
    {
     "data": {
      "text/plain": [
       "GARBAGE COLLECTIONS          8235\n",
       "RECYCLING - SINGLE STREAM    6754\n",
       "ORGANICS                     5740\n",
       "BULK                         1594\n",
       "BRUSH                        1510\n",
       "SWEEPING                      360\n",
       "MIXED LITTER                  328\n",
       "TIRES                         175\n",
       "DEAD ANIMAL                   150\n",
       "YARD TRIMMING                 137\n",
       "RECYCLED METAL                 57\n",
       "LITTER                         41\n",
       "CONTAMINATED RECYCLING          1\n",
       "CONTAMINATED ORGANICS           1\n",
       "Name: load_type, dtype: int64"
      ]
     },
     "execution_count": 1065,
     "metadata": {},
     "output_type": "execute_result"
    }
   ],
   "source": [
    "# memperlihat jenis sampah apa saja yang dibuang\n",
    "df_copy[\"load_type\"].value_counts()"
   ]
  },
  {
   "attachments": {},
   "cell_type": "markdown",
   "metadata": {},
   "source": [
    "terdapat jenis sampah yaitu __ORGANICS__ sebanyak 5.740 jenis, yang artinya sampah tersebut adalah limbah organik. Limbah organik adalah sisa bahan atau sampah yang dapat didaur ulang dan berasal dari mahluk hidup. Selanjutnya dapat diamati jenis limbah organik dibuang ke tempat pembuangan mana saja seperti dibawah ini."
   ]
  },
  {
   "cell_type": "code",
   "execution_count": 1066,
   "metadata": {},
   "outputs": [
    {
     "data": {
      "text/plain": [
       "ORGANICS BY GOSH      5705\n",
       "TDS LANDFILL            22\n",
       "ON ROUTE HIGH DUMP       7\n",
       "PARK BEND                4\n",
       "HORNSBY BEND             2\n",
       "Name: dropoff_site, dtype: int64"
      ]
     },
     "execution_count": 1066,
     "metadata": {},
     "output_type": "execute_result"
    }
   ],
   "source": [
    "# menampilkan lokasi tempat pembuangan jenis sampah organis\n",
    "organics = df_copy.loc[df_copy['load_type']=='ORGANICS']\n",
    "organics[\"dropoff_site\"].value_counts()"
   ]
  },
  {
   "cell_type": "code",
   "execution_count": 1067,
   "metadata": {},
   "outputs": [
    {
     "data": {
      "text/plain": [
       "dropoff_site\n",
       "HORNSBY BEND             16160.0\n",
       "ON ROUTE HIGH DUMP       87680.0\n",
       "ORGANICS BY GOSH      67671006.0\n",
       "PARK BEND                53540.0\n",
       "TDS LANDFILL             28020.0\n",
       "Name: load_weight, dtype: float64"
      ]
     },
     "execution_count": 1067,
     "metadata": {},
     "output_type": "execute_result"
    }
   ],
   "source": [
    "# jumlah berat muatan masing-masing lokasi tempat pembuangan\n",
    "sum_organics = organics.groupby(by = 'dropoff_site', sort = True)['load_weight'].sum()\n",
    "sum_organics"
   ]
  },
  {
   "attachments": {},
   "cell_type": "markdown",
   "metadata": {},
   "source": [
    "Diketahui limbah organik paling banyak di buang ke tempat pembuangan __ORGANICS BY GOSH__ dan berat limbah organik yang dibuang mencapai __67.671.006__ kg. Selanjutnya dicari berapa banyak data limbah organik yang tempat pembuangan nya __ORGANICS BY GOSH__."
   ]
  },
  {
   "cell_type": "code",
   "execution_count": 1068,
   "metadata": {},
   "outputs": [
    {
     "data": {
      "text/html": [
       "<div>\n",
       "<style scoped>\n",
       "    .dataframe tbody tr th:only-of-type {\n",
       "        vertical-align: middle;\n",
       "    }\n",
       "\n",
       "    .dataframe tbody tr th {\n",
       "        vertical-align: top;\n",
       "    }\n",
       "\n",
       "    .dataframe thead th {\n",
       "        text-align: right;\n",
       "    }\n",
       "</style>\n",
       "<table border=\"1\" class=\"dataframe\">\n",
       "  <thead>\n",
       "    <tr style=\"text-align: right;\">\n",
       "      <th></th>\n",
       "      <th>report_date</th>\n",
       "      <th>load_type</th>\n",
       "      <th>load_time</th>\n",
       "      <th>load_weight</th>\n",
       "      <th>dropoff_site</th>\n",
       "    </tr>\n",
       "  </thead>\n",
       "  <tbody>\n",
       "    <tr>\n",
       "      <th>775</th>\n",
       "      <td>2021-02-21</td>\n",
       "      <td>ORGANICS</td>\n",
       "      <td>2021-02-21 10:41:00 UTC</td>\n",
       "      <td>2480.0</td>\n",
       "      <td>ORGANICS BY GOSH</td>\n",
       "    </tr>\n",
       "    <tr>\n",
       "      <th>776</th>\n",
       "      <td>2021-03-14</td>\n",
       "      <td>ORGANICS</td>\n",
       "      <td>2021-03-14 01:37:00 UTC</td>\n",
       "      <td>21700.0</td>\n",
       "      <td>ORGANICS BY GOSH</td>\n",
       "    </tr>\n",
       "    <tr>\n",
       "      <th>777</th>\n",
       "      <td>2021-03-21</td>\n",
       "      <td>ORGANICS</td>\n",
       "      <td>2021-03-21 07:56:00 UTC</td>\n",
       "      <td>7120.0</td>\n",
       "      <td>ORGANICS BY GOSH</td>\n",
       "    </tr>\n",
       "    <tr>\n",
       "      <th>778</th>\n",
       "      <td>2021-02-21</td>\n",
       "      <td>ORGANICS</td>\n",
       "      <td>2021-02-21 11:07:00 UTC</td>\n",
       "      <td>5560.0</td>\n",
       "      <td>ORGANICS BY GOSH</td>\n",
       "    </tr>\n",
       "    <tr>\n",
       "      <th>779</th>\n",
       "      <td>2021-03-14</td>\n",
       "      <td>ORGANICS</td>\n",
       "      <td>2021-03-14 03:04:00 UTC</td>\n",
       "      <td>20460.0</td>\n",
       "      <td>ORGANICS BY GOSH</td>\n",
       "    </tr>\n",
       "    <tr>\n",
       "      <th>...</th>\n",
       "      <td>...</td>\n",
       "      <td>...</td>\n",
       "      <td>...</td>\n",
       "      <td>...</td>\n",
       "      <td>...</td>\n",
       "    </tr>\n",
       "    <tr>\n",
       "      <th>26151</th>\n",
       "      <td>2021-03-01</td>\n",
       "      <td>ORGANICS</td>\n",
       "      <td>2021-03-01 11:19:00 UTC</td>\n",
       "      <td>18580.0</td>\n",
       "      <td>ORGANICS BY GOSH</td>\n",
       "    </tr>\n",
       "    <tr>\n",
       "      <th>26152</th>\n",
       "      <td>2021-03-01</td>\n",
       "      <td>ORGANICS</td>\n",
       "      <td>2021-03-01 11:26:00 UTC</td>\n",
       "      <td>12100.0</td>\n",
       "      <td>ORGANICS BY GOSH</td>\n",
       "    </tr>\n",
       "    <tr>\n",
       "      <th>26153</th>\n",
       "      <td>2021-03-01</td>\n",
       "      <td>ORGANICS</td>\n",
       "      <td>2021-03-01 04:27:00 UTC</td>\n",
       "      <td>10900.0</td>\n",
       "      <td>ORGANICS BY GOSH</td>\n",
       "    </tr>\n",
       "    <tr>\n",
       "      <th>26154</th>\n",
       "      <td>2021-03-01</td>\n",
       "      <td>ORGANICS</td>\n",
       "      <td>2021-03-01 05:55:00 UTC</td>\n",
       "      <td>21800.0</td>\n",
       "      <td>ORGANICS BY GOSH</td>\n",
       "    </tr>\n",
       "    <tr>\n",
       "      <th>26155</th>\n",
       "      <td>2021-03-01</td>\n",
       "      <td>ORGANICS</td>\n",
       "      <td>2021-03-02 01:10:00 UTC</td>\n",
       "      <td>5640.0</td>\n",
       "      <td>ORGANICS BY GOSH</td>\n",
       "    </tr>\n",
       "  </tbody>\n",
       "</table>\n",
       "<p>5705 rows × 5 columns</p>\n",
       "</div>"
      ],
      "text/plain": [
       "      report_date load_type                load_time  load_weight  \\\n",
       "775    2021-02-21  ORGANICS  2021-02-21 10:41:00 UTC       2480.0   \n",
       "776    2021-03-14  ORGANICS  2021-03-14 01:37:00 UTC      21700.0   \n",
       "777    2021-03-21  ORGANICS  2021-03-21 07:56:00 UTC       7120.0   \n",
       "778    2021-02-21  ORGANICS  2021-02-21 11:07:00 UTC       5560.0   \n",
       "779    2021-03-14  ORGANICS  2021-03-14 03:04:00 UTC      20460.0   \n",
       "...           ...       ...                      ...          ...   \n",
       "26151  2021-03-01  ORGANICS  2021-03-01 11:19:00 UTC      18580.0   \n",
       "26152  2021-03-01  ORGANICS  2021-03-01 11:26:00 UTC      12100.0   \n",
       "26153  2021-03-01  ORGANICS  2021-03-01 04:27:00 UTC      10900.0   \n",
       "26154  2021-03-01  ORGANICS  2021-03-01 05:55:00 UTC      21800.0   \n",
       "26155  2021-03-01  ORGANICS  2021-03-02 01:10:00 UTC       5640.0   \n",
       "\n",
       "           dropoff_site  \n",
       "775    ORGANICS BY GOSH  \n",
       "776    ORGANICS BY GOSH  \n",
       "777    ORGANICS BY GOSH  \n",
       "778    ORGANICS BY GOSH  \n",
       "779    ORGANICS BY GOSH  \n",
       "...                 ...  \n",
       "26151  ORGANICS BY GOSH  \n",
       "26152  ORGANICS BY GOSH  \n",
       "26153  ORGANICS BY GOSH  \n",
       "26154  ORGANICS BY GOSH  \n",
       "26155  ORGANICS BY GOSH  \n",
       "\n",
       "[5705 rows x 5 columns]"
      ]
     },
     "execution_count": 1068,
     "metadata": {},
     "output_type": "execute_result"
    }
   ],
   "source": [
    "# memfilter hanya untuk tempat pembuangan organics by gosh\n",
    "organics_by_gosh = organics.loc[df['dropoff_site']=='ORGANICS BY GOSH']\n",
    "organics_by_gosh"
   ]
  },
  {
   "cell_type": "code",
   "execution_count": 1069,
   "metadata": {},
   "outputs": [
    {
     "data": {
      "text/plain": [
       "5705"
      ]
     },
     "execution_count": 1069,
     "metadata": {},
     "output_type": "execute_result"
    }
   ],
   "source": [
    "# jumlah data limbah organis lokasi tempat pembuangan organics by gosh\n",
    "organics_by_gosh_value = organics.loc[df['dropoff_site']=='ORGANICS BY GOSH'].value_counts().sum()\n",
    "organics_by_gosh_value"
   ]
  },
  {
   "attachments": {},
   "cell_type": "markdown",
   "metadata": {},
   "source": [
    "terdapat __5.705__ limbah organik yang dibuang ke tempat pembuangan __ORGANICS BY GOSH__."
   ]
  },
  {
   "cell_type": "code",
   "execution_count": 1070,
   "metadata": {},
   "outputs": [
    {
     "data": {
      "text/plain": [
       "5740"
      ]
     },
     "execution_count": 1070,
     "metadata": {},
     "output_type": "execute_result"
    }
   ],
   "source": [
    "# jumlah data jenis limbah organis\n",
    "organics_value = organics.value_counts().sum()\n",
    "organics_value"
   ]
  },
  {
   "attachments": {},
   "cell_type": "markdown",
   "metadata": {},
   "source": [
    "Diketahui terdapat __5.740__ jenis sampah limbah organik."
   ]
  },
  {
   "cell_type": "code",
   "execution_count": 1071,
   "metadata": {},
   "outputs": [
    {
     "name": "stdout",
     "output_type": "stream",
     "text": [
      "99.39024390243902 %\n"
     ]
    }
   ],
   "source": [
    "#persentase limbah organis di tempat pembuangan ORGANICS BY GOSH dibandingkan total keseluruhan jenis limbah organis \n",
    "perc = organics_by_gosh_value/ organics_value *100\n",
    "print(perc,\"%\")"
   ]
  },
  {
   "attachments": {},
   "cell_type": "markdown",
   "metadata": {},
   "source": [
    "Didapatkan informasi __99,39%__ limbah organik dibuang ke tempat pembuangan __ORGANICS BY GOSH__. "
   ]
  },
  {
   "attachments": {},
   "cell_type": "markdown",
   "metadata": {},
   "source": [
    "## Cek Distribusi Data"
   ]
  },
  {
   "attachments": {},
   "cell_type": "markdown",
   "metadata": {},
   "source": [
    "Untuk melihat distribusi data dapat menggunakan visualisasi dalam bentuk histogram seperti dibawah ini."
   ]
  },
  {
   "cell_type": "code",
   "execution_count": 1072,
   "metadata": {},
   "outputs": [
    {
     "data": {
      "text/plain": [
       "<seaborn.axisgrid.FacetGrid at 0x2118f906cd0>"
      ]
     },
     "execution_count": 1072,
     "metadata": {},
     "output_type": "execute_result"
    },
    {
     "data": {
      "image/png": "[encoded data removed]",
      "text/plain": [
       "<Figure size 500x500 with 1 Axes>"
      ]
     },
     "metadata": {},
     "output_type": "display_data"
    }
   ],
   "source": [
    "# membuat histogram\n",
    "sns.displot(organics_by_gosh.load_weight, kde=True)"
   ]
  },
  {
   "attachments": {},
   "cell_type": "markdown",
   "metadata": {},
   "source": [
    "Setelah melihat bentuk histogram dapat dilakukan perhitungan kemiringan (_skew_) dengan cara berikut:"
   ]
  },
  {
   "cell_type": "code",
   "execution_count": 1073,
   "metadata": {},
   "outputs": [
    {
     "data": {
      "text/plain": [
       "0.07617790250092829"
      ]
     },
     "execution_count": 1073,
     "metadata": {},
     "output_type": "execute_result"
    }
   ],
   "source": [
    "#menghitung kemiringan (skew)\n",
    "organics_by_gosh['load_weight'].skew()"
   ]
  },
  {
   "attachments": {},
   "cell_type": "markdown",
   "metadata": {},
   "source": [
    "Didapat nilai kemiringan sebesar __0,07__. Karena kemiringannya mendekati angka 0 maka bisa dikatakan datanya __terdistribusi normal__ dan kemiringannya simetris. Selanjutnya dilakukan pengecekan outlier."
   ]
  },
  {
   "attachments": {},
   "cell_type": "markdown",
   "metadata": {},
   "source": [
    "## Mendeteksi Outlier"
   ]
  },
  {
   "attachments": {},
   "cell_type": "markdown",
   "metadata": {},
   "source": [
    "Untuk pengecekan outlier langkah pertama yang dilakukan adalah membuat boxplot."
   ]
  },
  {
   "cell_type": "code",
   "execution_count": 1074,
   "metadata": {},
   "outputs": [
    {
     "data": {
      "text/plain": [
       "<AxesSubplot: ylabel='load_weight'>"
      ]
     },
     "execution_count": 1074,
     "metadata": {},
     "output_type": "execute_result"
    },
    {
     "data": {
      "image/png": "[encoded data removed]",
      "text/plain": [
       "<Figure size 640x480 with 1 Axes>"
      ]
     },
     "metadata": {},
     "output_type": "display_data"
    }
   ],
   "source": [
    "#boxplot menggunakan seaborn\n",
    "sns.boxplot(data=organics_by_gosh, y = 'load_weight')\n"
   ]
  },
  {
   "attachments": {},
   "cell_type": "markdown",
   "metadata": {},
   "source": [
    "Dari gambar diatas terdapat beberapa titik diatas yang menunjukkan adanya outlier. Metode yang digunakan untuk mendeteksi outlier adalah __z-score rule__ karena datanya terdistribusi normal. Langkah selanjutnya dapat mencari central tendency kolom `load_weight` dengan tempat pembuangan  __ORGANIC BY GOSH__."
   ]
  },
  {
   "attachments": {},
   "cell_type": "markdown",
   "metadata": {},
   "source": [
    "## Central tendency dengan adanya outlier "
   ]
  },
  {
   "attachments": {},
   "cell_type": "markdown",
   "metadata": {},
   "source": [
    "- Mean dengan adanya outlier"
   ]
  },
  {
   "cell_type": "code",
   "execution_count": 1075,
   "metadata": {},
   "outputs": [
    {
     "data": {
      "text/plain": [
       "11861.701314636284"
      ]
     },
     "execution_count": 1075,
     "metadata": {},
     "output_type": "execute_result"
    }
   ],
   "source": [
    "# cari mean \n",
    "organics_by_gosh_mean = organics_by_gosh['load_weight'].mean()\n",
    "organics_by_gosh_mean"
   ]
  },
  {
   "attachments": {},
   "cell_type": "markdown",
   "metadata": {},
   "source": [
    "Nilai rata-rata berat limbah organik yang dibuang ke tempat pembuangan __ORGANICS BY GOSH__ sebesar __11.824,14__ kg."
   ]
  },
  {
   "attachments": {},
   "cell_type": "markdown",
   "metadata": {},
   "source": [
    "- Mean dengan adanya outlier"
   ]
  },
  {
   "cell_type": "code",
   "execution_count": 1076,
   "metadata": {},
   "outputs": [
    {
     "data": {
      "text/plain": [
       "0.25     8200.0\n",
       "0.50    11940.0\n",
       "0.75    15560.0\n",
       "Name: load_weight, dtype: float64"
      ]
     },
     "execution_count": 1076,
     "metadata": {},
     "output_type": "execute_result"
    }
   ],
   "source": [
    "#cari mean karena datanya terdistribusi normal tidak perlu menghitung iqr\n",
    "organics_by_gosh_median = organics_by_gosh['load_weight'].quantile([.25,.50,.75])\n",
    "organics_by_gosh_median"
   ]
  },
  {
   "attachments": {},
   "cell_type": "markdown",
   "metadata": {},
   "source": [
    "Nilai kuartil 1, kuartil 2 (_median_) dan nilai kuartil 3 berat limbah organik yang dibuang ke tempat pembuangan __ORGANICS BY GOSH__ sebesar __8.155__ kg, __11.920__ kg dan __15.545__ kg."
   ]
  },
  {
   "attachments": {},
   "cell_type": "markdown",
   "metadata": {},
   "source": [
    "- Modus dengan adanya outlier"
   ]
  },
  {
   "cell_type": "code",
   "execution_count": 1077,
   "metadata": {},
   "outputs": [
    {
     "data": {
      "text/plain": [
       "0    14580.0\n",
       "Name: load_weight, dtype: float64"
      ]
     },
     "execution_count": 1077,
     "metadata": {},
     "output_type": "execute_result"
    }
   ],
   "source": [
    "#cari modus\n",
    "organics_by_gosh_mode = organics_by_gosh['load_weight'].mode()\n",
    "organics_by_gosh_mode"
   ]
  },
  {
   "attachments": {},
   "cell_type": "markdown",
   "metadata": {},
   "source": [
    "Nilai modus berat limbah organik yang dibuang ke tempat pembuangan __ORGANICS BY GOSH__ sebesar __14.580__ kg."
   ]
  },
  {
   "attachments": {},
   "cell_type": "markdown",
   "metadata": {},
   "source": [
    "## Measure of Variance"
   ]
  },
  {
   "attachments": {},
   "cell_type": "markdown",
   "metadata": {},
   "source": [
    "### Range"
   ]
  },
  {
   "attachments": {},
   "cell_type": "markdown",
   "metadata": {},
   "source": [
    "Rentang (_range_) didapat dengan cara nilai maksimum dikurang dengan nilai minimum."
   ]
  },
  {
   "cell_type": "code",
   "execution_count": 1078,
   "metadata": {},
   "outputs": [],
   "source": [
    "# menentukan range diperlukan nilai min dan\n",
    "organic_range_min = organics_by_gosh[\"load_weight\"].min()\n",
    "organic_range_max = organics_by_gosh[\"load_weight\"].max()"
   ]
  },
  {
   "cell_type": "code",
   "execution_count": 1079,
   "metadata": {},
   "outputs": [
    {
     "data": {
      "text/plain": [
       "29640.0"
      ]
     },
     "execution_count": 1079,
     "metadata": {},
     "output_type": "execute_result"
    }
   ],
   "source": [
    "#range = max - min\n",
    "organic_range = organic_range_max - organic_range_min\n",
    "organic_range"
   ]
  },
  {
   "attachments": {},
   "cell_type": "markdown",
   "metadata": {},
   "source": [
    "Didapatkan nilai rentang (_range_) berat limbah organik yang dibuang ke tempat pembuangan __ORGANICS BY GOSH__ sebesar __29.640__ kg"
   ]
  },
  {
   "attachments": {},
   "cell_type": "markdown",
   "metadata": {},
   "source": [
    "### Variance"
   ]
  },
  {
   "attachments": {},
   "cell_type": "markdown",
   "metadata": {},
   "source": [
    "Variance didapat dengan fungsi `pandas.dataframe.var()`."
   ]
  },
  {
   "cell_type": "code",
   "execution_count": 1080,
   "metadata": {},
   "outputs": [
    {
     "data": {
      "text/plain": [
       "25350749.50123425"
      ]
     },
     "execution_count": 1080,
     "metadata": {},
     "output_type": "execute_result"
    }
   ],
   "source": [
    "#menghitung variance\n",
    "organics_by_gosh['load_weight'].var()"
   ]
  },
  {
   "attachments": {},
   "cell_type": "markdown",
   "metadata": {},
   "source": [
    "Didapat nilai variance __25.350.749,5__ yang menunjukkan sebaran data sangat besar dari nilai rata-ratanya."
   ]
  },
  {
   "attachments": {},
   "cell_type": "markdown",
   "metadata": {},
   "source": [
    "### Standar Deviasi"
   ]
  },
  {
   "attachments": {},
   "cell_type": "markdown",
   "metadata": {},
   "source": [
    "Standar deviasi didapat dengan menggunakan fungsi `pandas.dataframe.std()`."
   ]
  },
  {
   "cell_type": "code",
   "execution_count": 1081,
   "metadata": {},
   "outputs": [
    {
     "data": {
      "text/plain": [
       "5034.952780437395"
      ]
     },
     "execution_count": 1081,
     "metadata": {},
     "output_type": "execute_result"
    }
   ],
   "source": [
    "# menghitung standar deviasi\n",
    "organics_by_gosh_std = organics_by_gosh['load_weight'].std()\n",
    "organics_by_gosh_std"
   ]
  },
  {
   "attachments": {},
   "cell_type": "markdown",
   "metadata": {},
   "source": [
    "Didapat nilai standar deviasi __5.034,95__ yang menunjukkan sebaran data sangat besar dari nilai rata-ratanya."
   ]
  },
  {
   "attachments": {},
   "cell_type": "markdown",
   "metadata": {},
   "source": [
    "### Menentukan Upper Limit dan Lower Limit"
   ]
  },
  {
   "attachments": {},
   "cell_type": "markdown",
   "metadata": {},
   "source": [
    "Karena terdistribusi normal maka yang digunakan adalah nilai __mean__. rumus untuk menentukan rentang upper limit outlier dan lower limit outlier : "
   ]
  },
  {
   "attachments": {},
   "cell_type": "markdown",
   "metadata": {},
   "source": [
    "``` Outliers = mean+/-3*std ```"
   ]
  },
  {
   "attachments": {},
   "cell_type": "markdown",
   "metadata": {},
   "source": [
    "- Menentukan Upper Limit"
   ]
  },
  {
   "cell_type": "code",
   "execution_count": 1082,
   "metadata": {},
   "outputs": [
    {
     "data": {
      "text/plain": [
       "26966.55965594847"
      ]
     },
     "execution_count": 1082,
     "metadata": {},
     "output_type": "execute_result"
    }
   ],
   "source": [
    "# menentukan upper limit, normal dengan mean sedangkan tidak normal menggunakan median.\n",
    "outliers_plus = organics_by_gosh_mean + 3*organics_by_gosh_std\n",
    "outliers_plus"
   ]
  },
  {
   "attachments": {},
   "cell_type": "markdown",
   "metadata": {},
   "source": [
    "Didapatkan upper limit berat limbah organik yang dibuang ke tempat pembuangan __ORGANICS BY GOSH__ sebesar __26.966.,55__ kg."
   ]
  },
  {
   "cell_type": "code",
   "execution_count": 1083,
   "metadata": {},
   "outputs": [
    {
     "data": {
      "text/html": [
       "<div>\n",
       "<style scoped>\n",
       "    .dataframe tbody tr th:only-of-type {\n",
       "        vertical-align: middle;\n",
       "    }\n",
       "\n",
       "    .dataframe tbody tr th {\n",
       "        vertical-align: top;\n",
       "    }\n",
       "\n",
       "    .dataframe thead th {\n",
       "        text-align: right;\n",
       "    }\n",
       "</style>\n",
       "<table border=\"1\" class=\"dataframe\">\n",
       "  <thead>\n",
       "    <tr style=\"text-align: right;\">\n",
       "      <th></th>\n",
       "      <th>report_date</th>\n",
       "      <th>load_type</th>\n",
       "      <th>load_time</th>\n",
       "      <th>load_weight</th>\n",
       "      <th>dropoff_site</th>\n",
       "    </tr>\n",
       "  </thead>\n",
       "  <tbody>\n",
       "    <tr>\n",
       "      <th>3443</th>\n",
       "      <td>2021-03-15</td>\n",
       "      <td>ORGANICS</td>\n",
       "      <td>2021-03-15 12:00:00 UTC</td>\n",
       "      <td>27240.0</td>\n",
       "      <td>ORGANICS BY GOSH</td>\n",
       "    </tr>\n",
       "    <tr>\n",
       "      <th>14594</th>\n",
       "      <td>2021-06-02</td>\n",
       "      <td>ORGANICS</td>\n",
       "      <td>2021-06-02 05:39:00 UTC</td>\n",
       "      <td>28120.0</td>\n",
       "      <td>ORGANICS BY GOSH</td>\n",
       "    </tr>\n",
       "    <tr>\n",
       "      <th>14759</th>\n",
       "      <td>2021-06-03</td>\n",
       "      <td>ORGANICS</td>\n",
       "      <td>2021-06-03 07:05:00 UTC</td>\n",
       "      <td>29660.0</td>\n",
       "      <td>ORGANICS BY GOSH</td>\n",
       "    </tr>\n",
       "    <tr>\n",
       "      <th>15165</th>\n",
       "      <td>2021-06-07</td>\n",
       "      <td>ORGANICS</td>\n",
       "      <td>2021-06-07 12:00:00 UTC</td>\n",
       "      <td>29000.0</td>\n",
       "      <td>ORGANICS BY GOSH</td>\n",
       "    </tr>\n",
       "    <tr>\n",
       "      <th>16120</th>\n",
       "      <td>2021-06-14</td>\n",
       "      <td>ORGANICS</td>\n",
       "      <td>2021-06-14 06:15:00 UTC</td>\n",
       "      <td>29160.0</td>\n",
       "      <td>ORGANICS BY GOSH</td>\n",
       "    </tr>\n",
       "    <tr>\n",
       "      <th>16299</th>\n",
       "      <td>2021-06-15</td>\n",
       "      <td>ORGANICS</td>\n",
       "      <td>2021-06-15 02:07:00 UTC</td>\n",
       "      <td>27120.0</td>\n",
       "      <td>ORGANICS BY GOSH</td>\n",
       "    </tr>\n",
       "    <tr>\n",
       "      <th>25825</th>\n",
       "      <td>2021-02-26</td>\n",
       "      <td>ORGANICS</td>\n",
       "      <td>2021-02-26 05:12:00 UTC</td>\n",
       "      <td>27620.0</td>\n",
       "      <td>ORGANICS BY GOSH</td>\n",
       "    </tr>\n",
       "    <tr>\n",
       "      <th>26116</th>\n",
       "      <td>2021-03-01</td>\n",
       "      <td>ORGANICS</td>\n",
       "      <td>2021-03-01 05:36:00 UTC</td>\n",
       "      <td>27300.0</td>\n",
       "      <td>ORGANICS BY GOSH</td>\n",
       "    </tr>\n",
       "  </tbody>\n",
       "</table>\n",
       "</div>"
      ],
      "text/plain": [
       "      report_date load_type                load_time  load_weight  \\\n",
       "3443   2021-03-15  ORGANICS  2021-03-15 12:00:00 UTC      27240.0   \n",
       "14594  2021-06-02  ORGANICS  2021-06-02 05:39:00 UTC      28120.0   \n",
       "14759  2021-06-03  ORGANICS  2021-06-03 07:05:00 UTC      29660.0   \n",
       "15165  2021-06-07  ORGANICS  2021-06-07 12:00:00 UTC      29000.0   \n",
       "16120  2021-06-14  ORGANICS  2021-06-14 06:15:00 UTC      29160.0   \n",
       "16299  2021-06-15  ORGANICS  2021-06-15 02:07:00 UTC      27120.0   \n",
       "25825  2021-02-26  ORGANICS  2021-02-26 05:12:00 UTC      27620.0   \n",
       "26116  2021-03-01  ORGANICS  2021-03-01 05:36:00 UTC      27300.0   \n",
       "\n",
       "           dropoff_site  \n",
       "3443   ORGANICS BY GOSH  \n",
       "14594  ORGANICS BY GOSH  \n",
       "14759  ORGANICS BY GOSH  \n",
       "15165  ORGANICS BY GOSH  \n",
       "16120  ORGANICS BY GOSH  \n",
       "16299  ORGANICS BY GOSH  \n",
       "25825  ORGANICS BY GOSH  \n",
       "26116  ORGANICS BY GOSH  "
      ]
     },
     "execution_count": 1083,
     "metadata": {},
     "output_type": "execute_result"
    }
   ],
   "source": [
    "# melebihi upper limit\n",
    "organics_by_gosh.loc[organics_by_gosh['load_weight'] > outliers_plus]"
   ]
  },
  {
   "attachments": {},
   "cell_type": "markdown",
   "metadata": {},
   "source": [
    "Terdapat __8 outlier__ yang melebihi upper limit. Selanjutnya dengan cara yang sama dapat mencari outlier yang melebihi lower limit."
   ]
  },
  {
   "attachments": {},
   "cell_type": "markdown",
   "metadata": {},
   "source": [
    "- Menentukan Lower Limit"
   ]
  },
  {
   "cell_type": "code",
   "execution_count": 1084,
   "metadata": {},
   "outputs": [
    {
     "data": {
      "text/plain": [
       "-3243.157026675901"
      ]
     },
     "execution_count": 1084,
     "metadata": {},
     "output_type": "execute_result"
    }
   ],
   "source": [
    "# menentukan lower limit, normal dengan mean sedangkan tidak normal menggunakan median.\n",
    "outliers_minus = organics_by_gosh_mean - 3*organics_by_gosh_std\n",
    "outliers_minus"
   ]
  },
  {
   "attachments": {},
   "cell_type": "markdown",
   "metadata": {},
   "source": [
    "Didapatkan lower limit berat limbah organik yang dibuang ke tempat pembuangan __ORGANICS BY GOSH__ sebesar __-3.243,16__ kg. Selanjutnya menampilkan data mana saja termasuk outlier yang melebihi lower limit."
   ]
  },
  {
   "cell_type": "code",
   "execution_count": 1085,
   "metadata": {},
   "outputs": [
    {
     "data": {
      "text/html": [
       "<div>\n",
       "<style scoped>\n",
       "    .dataframe tbody tr th:only-of-type {\n",
       "        vertical-align: middle;\n",
       "    }\n",
       "\n",
       "    .dataframe tbody tr th {\n",
       "        vertical-align: top;\n",
       "    }\n",
       "\n",
       "    .dataframe thead th {\n",
       "        text-align: right;\n",
       "    }\n",
       "</style>\n",
       "<table border=\"1\" class=\"dataframe\">\n",
       "  <thead>\n",
       "    <tr style=\"text-align: right;\">\n",
       "      <th></th>\n",
       "      <th>report_date</th>\n",
       "      <th>load_type</th>\n",
       "      <th>load_time</th>\n",
       "      <th>load_weight</th>\n",
       "      <th>dropoff_site</th>\n",
       "    </tr>\n",
       "  </thead>\n",
       "  <tbody>\n",
       "  </tbody>\n",
       "</table>\n",
       "</div>"
      ],
      "text/plain": [
       "Empty DataFrame\n",
       "Columns: [report_date, load_type, load_time, load_weight, dropoff_site]\n",
       "Index: []"
      ]
     },
     "execution_count": 1085,
     "metadata": {},
     "output_type": "execute_result"
    }
   ],
   "source": [
    "# melebihi lower limit\n",
    "organics_by_gosh.loc[organics_by_gosh['load_weight'] < outliers_minus]"
   ]
  },
  {
   "attachments": {},
   "cell_type": "markdown",
   "metadata": {},
   "source": [
    "Tidak terdapat outlier yang melebihi lower limit."
   ]
  },
  {
   "attachments": {},
   "cell_type": "markdown",
   "metadata": {},
   "source": [
    "Didapatkan batas bawah berat limbah organik yang dibuang ke tempat pembuangan __ORGANICS BY GOSH__ sebesar __-3.243,16__ kg dan batas atas sebesar __26.966.,55__ kg."
   ]
  },
  {
   "attachments": {},
   "cell_type": "markdown",
   "metadata": {},
   "source": [
    "### Persentase outlier"
   ]
  },
  {
   "attachments": {},
   "cell_type": "markdown",
   "metadata": {},
   "source": [
    "Selanjutnya setelah mengetahui jumlah outliernya dapat ditentukan persentase outliernya dengan cara membagi jumlah outlier dengan jumlah sampel."
   ]
  },
  {
   "cell_type": "code",
   "execution_count": 1086,
   "metadata": {},
   "outputs": [
    {
     "data": {
      "text/plain": [
       "8"
      ]
     },
     "execution_count": 1086,
     "metadata": {},
     "output_type": "execute_result"
    }
   ],
   "source": [
    "# jumlah outlier\n",
    "organics_by_gosh_outliers_percent = organics_by_gosh.loc[organics_by_gosh['load_weight'] > outliers_plus].value_counts().sum()\n",
    "organics_by_gosh_outliers_percent"
   ]
  },
  {
   "cell_type": "code",
   "execution_count": 1087,
   "metadata": {},
   "outputs": [
    {
     "name": "stdout",
     "output_type": "stream",
     "text": [
      "0.14022787028921999 %\n"
     ]
    }
   ],
   "source": [
    "# jumlah outlier / jumlah sampel\n",
    "organics_by_gosh_o_total = organics_by_gosh_outliers_percent/organics_by_gosh_value * 100\n",
    "print(organics_by_gosh_o_total, '%')"
   ]
  },
  {
   "attachments": {},
   "cell_type": "markdown",
   "metadata": {},
   "source": [
    "Didapatkan __0,14 %__  berat muatan termasuk outlier. Karena persentase outlier nya hanya 0,14 % maka outlier tersebut dapat dihilangkan."
   ]
  },
  {
   "attachments": {},
   "cell_type": "markdown",
   "metadata": {},
   "source": [
    "## Menghilangkan Outlier"
   ]
  },
  {
   "attachments": {},
   "cell_type": "markdown",
   "metadata": {},
   "source": [
    "Untuk menghilangkan outlier dapat dilakukan dengan cara drop index dari data outlier tadi. Diketahui index yang berada di outlier yaitu nomor __3443, 14594, 14759, 15165, 16120, 16299, 25825__ dan __26166__."
   ]
  },
  {
   "cell_type": "code",
   "execution_count": 1088,
   "metadata": {},
   "outputs": [
    {
     "name": "stderr",
     "output_type": "stream",
     "text": [
      "C:\\Users\\luay9\\AppData\\Local\\Temp\\ipykernel_12564\\1627178002.py:2: SettingWithCopyWarning: \n",
      "A value is trying to be set on a copy of a slice from a DataFrame\n",
      "\n",
      "See the caveats in the documentation: https://pandas.pydata.org/pandas-docs/stable/user_guide/indexing.html#returning-a-view-versus-a-copy\n",
      "  organics_by_gosh.drop(index = [3443,14594,14759,15165,16120,16299,25825,26116], inplace=True)\n"
     ]
    }
   ],
   "source": [
    "#drop index yang termasuk outlier\n",
    "organics_by_gosh.drop(index = [3443,14594,14759,15165,16120,16299,25825,26116], inplace=True)"
   ]
  },
  {
   "cell_type": "code",
   "execution_count": 1089,
   "metadata": {},
   "outputs": [
    {
     "data": {
      "text/plain": [
       "report_date     5697\n",
       "load_type       5697\n",
       "load_time       5697\n",
       "load_weight     5697\n",
       "dropoff_site    5697\n",
       "dtype: int64"
      ]
     },
     "execution_count": 1089,
     "metadata": {},
     "output_type": "execute_result"
    }
   ],
   "source": [
    "#menghitung jumlah sampel setelah outlier dihilangkan\n",
    "organics_by_gosh.count()"
   ]
  },
  {
   "attachments": {},
   "cell_type": "markdown",
   "metadata": {},
   "source": [
    "Setelah outlier dihilangkan jumlah baris yang semula __5.705__ sekarang menjadi __5.697__. Selanjutnya membuat visualisasi dalam bentuk boxplot."
   ]
  },
  {
   "cell_type": "code",
   "execution_count": 1090,
   "metadata": {},
   "outputs": [
    {
     "data": {
      "text/plain": [
       "<AxesSubplot: ylabel='load_weight'>"
      ]
     },
     "execution_count": 1090,
     "metadata": {},
     "output_type": "execute_result"
    },
    {
     "data": {
      "image/png": "[encoded data removed]",
      "text/plain": [
       "<Figure size 640x480 with 1 Axes>"
      ]
     },
     "metadata": {},
     "output_type": "display_data"
    }
   ],
   "source": [
    "#boxplot setelah outlier dihapus\n",
    "sns.boxplot(data=organics_by_gosh, y = 'load_weight')"
   ]
  },
  {
   "attachments": {},
   "cell_type": "markdown",
   "metadata": {},
   "source": [
    "Dari gambar diatas dapat dilihat sudah tidak ada outlier seperti sebelumnya. Selanjutnya membuat visualisasi histogram setelah outlier dihilangkan."
   ]
  },
  {
   "cell_type": "code",
   "execution_count": 1091,
   "metadata": {},
   "outputs": [
    {
     "data": {
      "text/plain": [
       "<seaborn.axisgrid.FacetGrid at 0x2117f64f8b0>"
      ]
     },
     "execution_count": 1091,
     "metadata": {},
     "output_type": "execute_result"
    },
    {
     "data": {
      "image/png": "[encoded data removed]",
      "text/plain": [
       "<Figure size 500x500 with 1 Axes>"
      ]
     },
     "metadata": {},
     "output_type": "display_data"
    }
   ],
   "source": [
    "# membuat histogram\n",
    "sns.displot(organics_by_gosh.load_weight, kde=True)"
   ]
  },
  {
   "attachments": {},
   "cell_type": "markdown",
   "metadata": {},
   "source": [
    "Dari gambar diatas dapat dilihatkan kalau data __terdistribusi normal (Gaussian)__."
   ]
  },
  {
   "attachments": {},
   "cell_type": "markdown",
   "metadata": {},
   "source": [
    "Selanjutnya dapat dicari kemiringan (_skew_) dari data yang outliernya telah dihilangkan."
   ]
  },
  {
   "cell_type": "code",
   "execution_count": 1092,
   "metadata": {},
   "outputs": [
    {
     "data": {
      "text/plain": [
       "0.04252980841087013"
      ]
     },
     "execution_count": 1092,
     "metadata": {},
     "output_type": "execute_result"
    }
   ],
   "source": [
    "#menghitung skew/kemiringan\n",
    "organics_by_gosh['load_weight'].skew()\n"
   ]
  },
  {
   "attachments": {},
   "cell_type": "markdown",
   "metadata": {},
   "source": [
    "nilai kemiringan (_skew_) yaitu __0,043__ menunjukan kalau kemiringannya simetris."
   ]
  },
  {
   "attachments": {},
   "cell_type": "markdown",
   "metadata": {},
   "source": [
    "## Central tendency setelah outlier dihilangkan"
   ]
  },
  {
   "attachments": {},
   "cell_type": "markdown",
   "metadata": {},
   "source": [
    "- mean"
   ]
  },
  {
   "cell_type": "code",
   "execution_count": 1093,
   "metadata": {},
   "outputs": [
    {
     "data": {
      "text/plain": [
       "11838.824995611725"
      ]
     },
     "execution_count": 1093,
     "metadata": {},
     "output_type": "execute_result"
    }
   ],
   "source": [
    "#menghitung mean\n",
    "organics_by_gosh['load_weight'].mean()"
   ]
  },
  {
   "attachments": {},
   "cell_type": "markdown",
   "metadata": {},
   "source": [
    "Nilai mean berat limbah organik yang dibuang ke tempat pembuangan __ORGANICS BY GOSH__ setelah outlier dihilangkan sebesar __11.838,83__ kg."
   ]
  },
  {
   "attachments": {},
   "cell_type": "markdown",
   "metadata": {},
   "source": [
    "- Q1,Q2 dan Q3"
   ]
  },
  {
   "cell_type": "code",
   "execution_count": 1094,
   "metadata": {},
   "outputs": [
    {
     "data": {
      "text/plain": [
       "0.25     8180.0\n",
       "0.50    11940.0\n",
       "0.75    15540.0\n",
       "Name: load_weight, dtype: float64"
      ]
     },
     "execution_count": 1094,
     "metadata": {},
     "output_type": "execute_result"
    }
   ],
   "source": [
    "#menghitung kuartil\n",
    "organics_by_gosh['load_weight'].quantile([0.25,0.50,0.75])"
   ]
  },
  {
   "attachments": {},
   "cell_type": "markdown",
   "metadata": {},
   "source": [
    "Nilai kuartil 1, kuartil 2 (_median_) dan kuartil 3 berat limbah organik yang dibuang ke tempat pembuangan __ORGANICS BY GOSH__ setelah outlier dihilangkan sebesar __8.180__ kg, __11.940__ kg dan __15.540__ kg."
   ]
  },
  {
   "attachments": {},
   "cell_type": "markdown",
   "metadata": {},
   "source": [
    "- modus"
   ]
  },
  {
   "cell_type": "code",
   "execution_count": 1095,
   "metadata": {},
   "outputs": [
    {
     "data": {
      "text/html": [
       "<div>\n",
       "<style scoped>\n",
       "    .dataframe tbody tr th:only-of-type {\n",
       "        vertical-align: middle;\n",
       "    }\n",
       "\n",
       "    .dataframe tbody tr th {\n",
       "        vertical-align: top;\n",
       "    }\n",
       "\n",
       "    .dataframe thead th {\n",
       "        text-align: right;\n",
       "    }\n",
       "</style>\n",
       "<table border=\"1\" class=\"dataframe\">\n",
       "  <thead>\n",
       "    <tr style=\"text-align: right;\">\n",
       "      <th></th>\n",
       "      <th>report_date</th>\n",
       "      <th>load_type</th>\n",
       "      <th>load_time</th>\n",
       "      <th>load_weight</th>\n",
       "      <th>dropoff_site</th>\n",
       "    </tr>\n",
       "  </thead>\n",
       "  <tbody>\n",
       "    <tr>\n",
       "      <th>0</th>\n",
       "      <td>2021-04-01</td>\n",
       "      <td>ORGANICS</td>\n",
       "      <td>2021-03-09 12:00:00 UTC</td>\n",
       "      <td>14580.0</td>\n",
       "      <td>ORGANICS BY GOSH</td>\n",
       "    </tr>\n",
       "  </tbody>\n",
       "</table>\n",
       "</div>"
      ],
      "text/plain": [
       "  report_date load_type                load_time  load_weight  \\\n",
       "0  2021-04-01  ORGANICS  2021-03-09 12:00:00 UTC      14580.0   \n",
       "\n",
       "       dropoff_site  \n",
       "0  ORGANICS BY GOSH  "
      ]
     },
     "execution_count": 1095,
     "metadata": {},
     "output_type": "execute_result"
    }
   ],
   "source": [
    "#modus\n",
    "organics_by_gosh.apply(pd.Series.mode)"
   ]
  },
  {
   "attachments": {},
   "cell_type": "markdown",
   "metadata": {},
   "source": [
    "Nilai modus berat limbah organik yang dibuang ke tempat pembuangan __ORGANICS BY GOSH__ setelah outlier dihilangkan sebesar __14.580__ kg. "
   ]
  },
  {
   "attachments": {},
   "cell_type": "markdown",
   "metadata": {},
   "source": [
    "## New Site"
   ]
  },
  {
   "attachments": {},
   "cell_type": "markdown",
   "metadata": {},
   "source": [
    "Pemerintah kota Austin berencana membangun tempat pembuangan sampah baru. Beliau meminta analisa dan saran dari kita terkait kapasitas penampungan di tempat pembuangan sampah yang baru berdasarkan perhitungan _confidence interval_. \n",
    "Berdasarkan pengamatan yang telah dilakukan sebelumnya tentang jenis sampah limbah organis, diasumsikan pemerintah akan membangun tempat pembuangan baru untuk jenis sampah limbah organis.\n",
    "Langkah selanjutnya dapat mencari nilai _confidence interval_.\n"
   ]
  },
  {
   "attachments": {},
   "cell_type": "markdown",
   "metadata": {},
   "source": [
    "### Confidence Interval"
   ]
  },
  {
   "attachments": {},
   "cell_type": "markdown",
   "metadata": {},
   "source": [
    "Sebelum menentukan nilai confidence interval kita perlu mengetahui jumlah nilai muatan setiap harinya dengan cara berikut:"
   ]
  },
  {
   "cell_type": "code",
   "execution_count": 1096,
   "metadata": {},
   "outputs": [],
   "source": [
    "# menentukan daily input total dalam per hari\n",
    "daily_input = organics_by_gosh.groupby(by=\"report_date\",sort=True)[\"load_weight\"].apply(pd.Series.sum).to_frame()\n"
   ]
  },
  {
   "cell_type": "code",
   "execution_count": 1097,
   "metadata": {},
   "outputs": [
    {
     "data": {
      "text/plain": [
       "(32949.70342951937, 872362.8603288697)"
      ]
     },
     "execution_count": 1097,
     "metadata": {},
     "output_type": "execute_result"
    }
   ],
   "source": [
    "#confidence interval asumsi nilai confidence level 0.90\n",
    "confidence_interval = stats.norm.interval(0.90, daily_input.load_weight.mean(), daily_input.load_weight.std())\n",
    "confidence_interval"
   ]
  },
  {
   "attachments": {},
   "cell_type": "markdown",
   "metadata": {},
   "source": [
    "Didapatkan confidence interval berat limbah organik yang dibuang ke tempat pembuangan __ORGANICS BY GOSH__ dalam rentang waktu 2021-01-02 hingga 2021-07-08. Artinya jika Pemerintah Kota Austin ingin membangun tempah pembuangan untuk jenis sampah limbah organis harus memiliki kapasitas tampung antara __32.949__ kg - __872.363__ kg agar efisien."
   ]
  },
  {
   "attachments": {},
   "cell_type": "markdown",
   "metadata": {},
   "source": [
    "# Hypothesis Testing"
   ]
  },
  {
   "attachments": {},
   "cell_type": "markdown",
   "metadata": {},
   "source": [
    "Berikut adalah jenis dari muatan sampah yang ada di kota Austin."
   ]
  },
  {
   "cell_type": "code",
   "execution_count": 1098,
   "metadata": {},
   "outputs": [
    {
     "data": {
      "text/plain": [
       "GARBAGE COLLECTIONS          8235\n",
       "RECYCLING - SINGLE STREAM    6754\n",
       "ORGANICS                     5740\n",
       "BULK                         1594\n",
       "BRUSH                        1510\n",
       "SWEEPING                      360\n",
       "MIXED LITTER                  328\n",
       "TIRES                         175\n",
       "DEAD ANIMAL                   150\n",
       "YARD TRIMMING                 137\n",
       "RECYCLED METAL                 57\n",
       "LITTER                         41\n",
       "CONTAMINATED RECYCLING          1\n",
       "CONTAMINATED ORGANICS           1\n",
       "Name: load_type, dtype: int64"
      ]
     },
     "execution_count": 1098,
     "metadata": {},
     "output_type": "execute_result"
    }
   ],
   "source": [
    "# jenis sampah atau limbah yang dimuat\n",
    "df_copy[\"load_type\"].value_counts()"
   ]
  },
  {
   "attachments": {},
   "cell_type": "markdown",
   "metadata": {},
   "source": [
    "Dapat dilihat terdapat jenis limbah __RECYCLING - SINGLE STREAM__ yang menunjukan jenis limbah yang dapat di daur ulang dan jenis limbah organis. Sebelum melakukan uji hipotesis dilakukan perhitungan rata-rata berat muatan per hari untuk jenis limbah daur ulang dan limbah organis."
   ]
  },
  {
   "cell_type": "code",
   "execution_count": 1099,
   "metadata": {},
   "outputs": [
    {
     "name": "stdout",
     "output_type": "stream",
     "text": [
      "Average load weight of recycling load type a day: 491651.0 kg\n",
      "Average load weight of organic load type a day: 452376.0 kg\n"
     ]
    }
   ],
   "source": [
    "# mencari rata-rata load_weight per hari\n",
    "daily_recycling = df_copy[df_copy['load_type']=='RECYCLING - SINGLE STREAM'][['report_date','load_weight']].groupby('report_date').sum()\n",
    "daily_organics = df_copy[df_copy['load_type']=='ORGANICS'][['report_date','load_weight']].groupby('report_date').sum()\n",
    "\n",
    "print('Average load weight of recycling load type a day: {} kg'.format(np.round(daily_recycling.load_weight.mean())))\n",
    "print('Average load weight of organic load type a day: {} kg'.format(np.round(daily_organics.load_weight.mean())))"
   ]
  },
  {
   "attachments": {},
   "cell_type": "markdown",
   "metadata": {},
   "source": [
    "Didapat rata-rata muatan jenis limbah daur ulang per hari sebesar __491.651__ kg. Nilai rata-rata muatan untuk jenis limbah organis per hari sebesar __452.376__ kg "
   ]
  },
  {
   "attachments": {},
   "cell_type": "markdown",
   "metadata": {},
   "source": [
    "Selanjutnya membuat visualisasi dalam bentuk histogram seperti di bawah ini."
   ]
  },
  {
   "cell_type": "code",
   "execution_count": 1100,
   "metadata": {},
   "outputs": [
    {
     "data": {
      "text/plain": [
       "<seaborn.axisgrid.FacetGrid at 0x2118f0a3af0>"
      ]
     },
     "execution_count": 1100,
     "metadata": {},
     "output_type": "execute_result"
    },
    {
     "data": {
      "image/png": "[encoded data removed]",
      "text/plain": [
       "<Figure size 500x500 with 1 Axes>"
      ]
     },
     "metadata": {},
     "output_type": "display_data"
    }
   ],
   "source": [
    "sns.displot(daily_recycling.load_weight, kde=True)"
   ]
  },
  {
   "cell_type": "code",
   "execution_count": 1101,
   "metadata": {},
   "outputs": [
    {
     "data": {
      "text/plain": [
       "<seaborn.axisgrid.FacetGrid at 0x2118be03130>"
      ]
     },
     "execution_count": 1101,
     "metadata": {},
     "output_type": "execute_result"
    },
    {
     "data": {
      "image/png": "[encoded data removed]",
      "text/plain": [
       "<Figure size 500x500 with 1 Axes>"
      ]
     },
     "metadata": {},
     "output_type": "display_data"
    }
   ],
   "source": [
    "sns.displot(daily_organics.load_weight, kde=True)"
   ]
  },
  {
   "attachments": {},
   "cell_type": "markdown",
   "metadata": {},
   "source": [
    "Dari 2 gambar diatas bisa dilihat kalau berat muatan ke 2 jenis limbah terdistribusi normal."
   ]
  },
  {
   "attachments": {},
   "cell_type": "markdown",
   "metadata": {},
   "source": [
    "Selanjutnya dilakukan uji hipotesis.\n",
    "Asumsi yang digunakan adalah dengan __2 sample 2 tails__. Hipotesis yang akan diuji adalah :"
   ]
  },
  {
   "attachments": {},
   "cell_type": "markdown",
   "metadata": {},
   "source": [
    "- Hipotesis 0 (_Null Hypothesis_) : nilai rata-rata berat limbah daur ulang per hari __ada perbedaan yang signifikan__ dengan nilai rata-rata berat limbah organis per hari.\n",
    "- Hipotesis 1 (_Alternative Hypothesis_) : nilai rata-rata berat limbah daur ulang per hari __tidak ada perbedaan yang signifikan__ dengan nilai rata-rata berat limbah organis per hari."
   ]
  },
  {
   "attachments": {},
   "cell_type": "markdown",
   "metadata": {},
   "source": [
    "```H0 : μ RECYCLING - SINGLE STREAM  = μ ORGANICS```"
   ]
  },
  {
   "attachments": {},
   "cell_type": "markdown",
   "metadata": {},
   "source": [
    "```H1 : μ RECYCLING - SINGLE STREAM != μ ORGANICS```"
   ]
  },
  {
   "attachments": {},
   "cell_type": "markdown",
   "metadata": {},
   "source": [
    "Uji hipotesis dilakukan untuk mengetahui apakah terdapat perbedaan yang signifikan dari nilai rata-rata berat limbah daur ulang per hari dengan nilai rata-rata berat limbah organis per hari."
   ]
  },
  {
   "attachments": {},
   "cell_type": "markdown",
   "metadata": {},
   "source": [
    "## T-Test"
   ]
  },
  {
   "attachments": {},
   "cell_type": "markdown",
   "metadata": {},
   "source": [
    "Uji T dilakukan untuk mendapatkan nilai P dan t. Uji T dilakukan dengan menggunakan fungsi `scipy.stats.ttest_ind()`."
   ]
  },
  {
   "cell_type": "code",
   "execution_count": 1102,
   "metadata": {},
   "outputs": [
    {
     "name": "stdout",
     "output_type": "stream",
     "text": [
      "P-value: 0.11237805370418401\n",
      "t-statistics: 1.5926006460725861\n"
     ]
    }
   ],
   "source": [
    "# t-test\n",
    "t_stat, p_val = stats.ttest_ind(daily_recycling['load_weight'], daily_organics['load_weight'])\n",
    "print('P-value:',p_val)\n",
    "print('t-statistics:',t_stat)"
   ]
  },
  {
   "attachments": {},
   "cell_type": "markdown",
   "metadata": {},
   "source": [
    "Didapat nilai P sebesar __0,11__ dimana apabila nilai __P > 0,05__ menunjukkan __gagal tolak H0__ atau __tidak ada perbedaan yang signifikan__ nilai rata-rata berat muatan per hari jenis limbah daur ulang dan jenis limbah organis. . Untuk lebih jelasnya dapat dilihat dari gambar dibawah ini."
   ]
  },
  {
   "cell_type": "code",
   "execution_count": 1103,
   "metadata": {},
   "outputs": [
    {
     "data": {
      "text/plain": [
       "<matplotlib.legend.Legend at 0x2117f3acd30>"
      ]
     },
     "execution_count": 1103,
     "metadata": {},
     "output_type": "execute_result"
    },
    {
     "data": {
      "image/png": "[encoded data removed]",
      "text/plain": [
       "<Figure size 1600x500 with 1 Axes>"
      ]
     },
     "metadata": {},
     "output_type": "display_data"
    }
   ],
   "source": [
    "# simulation\n",
    "# numpy.random.normal (loc = rata-rata , scale = standar deviasi, size = asumsi 10.000 sample)\n",
    "recycling_pop = np.random.normal(daily_recycling['load_weight'].mean(),daily_recycling['load_weight'].std(),5000)\n",
    "organics_pop = np.random.normal(daily_organics['load_weight'].mean(),daily_organics['load_weight'].std(),5000)\n",
    "\n",
    "# confidence interval berdasarkan daily recyling karena μA, dengan confidence level 0.05\n",
    "confidence_interval = stats.norm.interval(0.95, daily_recycling['load_weight'].mean(), daily_recycling['load_weight'].std())\n",
    "\n",
    "#plot histogram\n",
    "plt.figure(figsize=(16,5))\n",
    "sns.histplot(recycling_pop, label='Recycleable Load Type Average Load Weight a Day *Pop',color='blue') # histogram recycle\n",
    "sns.histplot(organics_pop, label='Organic Load Type Average Load Weight a Day *Pop ',color='red') # histogram organic\n",
    "\n",
    "# plot nilai mean\n",
    "plt.axvline(daily_recycling['load_weight'].mean(), color='yellow', linewidth=2, label='Recyclable Load Type load weight mean') # mean recycle\n",
    "plt.axvline(daily_organics['load_weight'].mean(), color='gray',  linewidth=2, label='Organics Load Type load weight mean') # mean organic\n",
    "\n",
    "#plot confidence interval \n",
    "plt.axvline(confidence_interval[1], color='green', linestyle='dashed', linewidth=2, label='confidence threshold of 95%') # confidence interval ORGANICS BY GOSH\n",
    "plt.axvline(confidence_interval[0], color='green', linestyle='dashed', linewidth=2, label='confidence threshold of 95%') # confidence interval ON ROUTE HIGH DUMP\n",
    "\n",
    "# alternative hypotesis\n",
    "plt.axvline(recycling_pop.mean()+t_stat*recycling_pop.std(), color='black', linestyle='dashed', linewidth=2, label = 'Alternative Hypothesis') # sisi kanan\n",
    "plt.axvline(recycling_pop.mean()-t_stat*recycling_pop.std(), color='black', linestyle='dashed', linewidth=2) # sisi kiri\n",
    "\n",
    "plt.legend()"
   ]
  },
  {
   "attachments": {},
   "cell_type": "markdown",
   "metadata": {},
   "source": [
    "Dari gambar diatas, bisa dilihat alternative hypothesis (garis putus-putus hitam)  berada didalam rentang confidence interval (garis putus-putus hijau). Sehingga dapat ditarik kesimpulan __gagal tolak H0__ (_null hypothesis_) yang berarti __tidak ada perbedaan yang signifikan__ nilai rata-rata berat muatan per hari jenis limbah daur ulang dan jenis limbah organik."
   ]
  },
  {
   "attachments": {},
   "cell_type": "markdown",
   "metadata": {},
   "source": [
    "## Saran untuk pemerintah"
   ]
  },
  {
   "attachments": {},
   "cell_type": "markdown",
   "metadata": {},
   "source": [
    "Uji hipotesis yang telah dilakukan dapat menjadi saran untuk pemerintah kota Austin sebagai pertimbangan apabila ingin membangun tempat pembuangan baru untuk jenis sampah yang dapat di daur ulang, dikarenakan nilai rata-rata muatan per hari nya tidak jauh berbeda dengan jenis limbah organik yang sebelumnya sudah direncanakan akan dibuat tempat pembuangan yang baru."
   ]
  },
  {
   "attachments": {},
   "cell_type": "markdown",
   "metadata": {},
   "source": [
    "# Jawaban untuk Problem 1 (stats)"
   ]
  },
  {
   "attachments": {},
   "cell_type": "markdown",
   "metadata": {},
   "source": [
    "1. Teknik apa yang kamu pilih untuk handling outlier? jelaskan alasannya!"
   ]
  },
  {
   "attachments": {},
   "cell_type": "markdown",
   "metadata": {},
   "source": [
    "- Jawab :"
   ]
  },
  {
   "attachments": {},
   "cell_type": "markdown",
   "metadata": {},
   "source": [
    "Teknik yang digunakan untuk mengatasi outlier adalah _z-score rule_ dikarenakan datanya terdistribusi normal."
   ]
  },
  {
   "attachments": {},
   "cell_type": "markdown",
   "metadata": {},
   "source": [
    "2. Apa konsep dibalik confidence interval sehingga kita dapat menggunakannya untuk pembangunan tempat pembuangan baru?"
   ]
  },
  {
   "attachments": {},
   "cell_type": "markdown",
   "metadata": {},
   "source": [
    "- Jawab :"
   ]
  },
  {
   "attachments": {},
   "cell_type": "markdown",
   "metadata": {},
   "source": [
    "Confidence interval digunakan sebagai parameter untuk menentukan keakuratan dari metode pengambilan sampel, Pada kasus pembangunan tempat baru nilai confidence interval didapat dari mean dan standar deviasi data jumlah total berat muatan per hari suatu tempat pembuangan sampah, sehingga didapat rentang confindence interval sebagai acuan untuk menentukan kapasitas tampung sampah.\n",
    "\n",
    "Confidence interval juga dapat menjadi sebagai tolak ukur untuk uji hipotesis, apabila _alternative hypothesis_ (H1) berada di luar rentang confidence interval menunjukkan tolak _null hypothesis_ (H0). Sebaliknya apabila nilai H1 berada didalam rentang confidence interval menunjukkan gagal tolak H0."
   ]
  },
  {
   "attachments": {},
   "cell_type": "markdown",
   "metadata": {},
   "source": [
    "3. Jelaskan jenis uji hipotesis apa yang kamu terapkan dan mengapa?"
   ]
  },
  {
   "attachments": {},
   "cell_type": "markdown",
   "metadata": {},
   "source": [
    "- Jawab :"
   ]
  },
  {
   "attachments": {},
   "cell_type": "markdown",
   "metadata": {},
   "source": [
    "Uji hipotesi yang diterapkan untuk _2 samples 2 tails_. Alasan memilih uji hipotesis tersebut karena ingin melihat apakah ada perbedaan yang signifikan nilai rata-rata berat muatan 2 jenis limbah yang berbeda. Dimana hasil uji hipotesis ini dapat menjadi pertimbangan apabila pemerintah kota Austin akan membangun tempat sampah baru khusus untuk jenis sampah tertentu."
   ]
  },
  {
   "attachments": {},
   "cell_type": "markdown",
   "metadata": {},
   "source": [
    "# Math / Calculus"
   ]
  },
  {
   "attachments": {},
   "cell_type": "markdown",
   "metadata": {},
   "source": [
    "Langkah pertama dengan mengelompokan tanggal dan berat muatan yang ada pada dataset."
   ]
  },
  {
   "cell_type": "code",
   "execution_count": 1104,
   "metadata": {},
   "outputs": [
    {
     "data": {
      "text/html": [
       "<div>\n",
       "<style scoped>\n",
       "    .dataframe tbody tr th:only-of-type {\n",
       "        vertical-align: middle;\n",
       "    }\n",
       "\n",
       "    .dataframe tbody tr th {\n",
       "        vertical-align: top;\n",
       "    }\n",
       "\n",
       "    .dataframe thead th {\n",
       "        text-align: right;\n",
       "    }\n",
       "</style>\n",
       "<table border=\"1\" class=\"dataframe\">\n",
       "  <thead>\n",
       "    <tr style=\"text-align: right;\">\n",
       "      <th></th>\n",
       "      <th>load_weight</th>\n",
       "    </tr>\n",
       "    <tr>\n",
       "      <th>report_date</th>\n",
       "      <th></th>\n",
       "    </tr>\n",
       "  </thead>\n",
       "  <tbody>\n",
       "    <tr>\n",
       "      <th>2021-01-02</th>\n",
       "      <td>2170130.0</td>\n",
       "    </tr>\n",
       "    <tr>\n",
       "      <th>2021-01-04</th>\n",
       "      <td>2920260.0</td>\n",
       "    </tr>\n",
       "    <tr>\n",
       "      <th>2021-01-05</th>\n",
       "      <td>2388540.0</td>\n",
       "    </tr>\n",
       "    <tr>\n",
       "      <th>2021-01-06</th>\n",
       "      <td>2396550.0</td>\n",
       "    </tr>\n",
       "    <tr>\n",
       "      <th>2021-01-07</th>\n",
       "      <td>2438330.0</td>\n",
       "    </tr>\n",
       "    <tr>\n",
       "      <th>...</th>\n",
       "      <td>...</td>\n",
       "    </tr>\n",
       "    <tr>\n",
       "      <th>2021-07-05</th>\n",
       "      <td>1897290.0</td>\n",
       "    </tr>\n",
       "    <tr>\n",
       "      <th>2021-07-06</th>\n",
       "      <td>1921640.0</td>\n",
       "    </tr>\n",
       "    <tr>\n",
       "      <th>2021-07-07</th>\n",
       "      <td>1553080.0</td>\n",
       "    </tr>\n",
       "    <tr>\n",
       "      <th>2021-07-08</th>\n",
       "      <td>1417650.0</td>\n",
       "    </tr>\n",
       "    <tr>\n",
       "      <th>2021-07-09</th>\n",
       "      <td>114840.0</td>\n",
       "    </tr>\n",
       "  </tbody>\n",
       "</table>\n",
       "<p>165 rows × 1 columns</p>\n",
       "</div>"
      ],
      "text/plain": [
       "             load_weight\n",
       "report_date             \n",
       "2021-01-02     2170130.0\n",
       "2021-01-04     2920260.0\n",
       "2021-01-05     2388540.0\n",
       "2021-01-06     2396550.0\n",
       "2021-01-07     2438330.0\n",
       "...                  ...\n",
       "2021-07-05     1897290.0\n",
       "2021-07-06     1921640.0\n",
       "2021-07-07     1553080.0\n",
       "2021-07-08     1417650.0\n",
       "2021-07-09      114840.0\n",
       "\n",
       "[165 rows x 1 columns]"
      ]
     },
     "execution_count": 1104,
     "metadata": {},
     "output_type": "execute_result"
    }
   ],
   "source": [
    "#groupby\n",
    "df1 = df_copy.groupby('report_date')['load_weight'].sum().to_frame()\n",
    "df1"
   ]
  },
  {
   "attachments": {},
   "cell_type": "markdown",
   "metadata": {},
   "source": [
    "Tabel diatas menujukkan dataset yang sudah dikelompokkan berdasarkan tanggal dan berat muatan."
   ]
  },
  {
   "attachments": {},
   "cell_type": "markdown",
   "metadata": {},
   "source": [
    "Selanjutnya melakukan perhitungan v (laju percepatan ) dengan rumus :"
   ]
  },
  {
   "attachments": {
    "image.png": {
     "image/png": "[encoded data removed]"
    }
   },
   "cell_type": "markdown",
   "metadata": {},
   "source": [
    "![image.png](attachment:image.png)"
   ]
  },
  {
   "attachments": {},
   "cell_type": "markdown",
   "metadata": {},
   "source": [
    "1 adalah notasi untuk hari ini (9 Juli 2021) dan 0 adalah notasi untuk hari sebelumnya"
   ]
  },
  {
   "cell_type": "code",
   "execution_count": 1105,
   "metadata": {},
   "outputs": [],
   "source": [
    "v = np.diff(df1['load_weight'])/np.diff(range(len(df1)))\n"
   ]
  },
  {
   "attachments": {},
   "cell_type": "markdown",
   "metadata": {},
   "source": [
    "Setelah mendapatkan laju percepatan selanjutnya dapat dilakukan prediksi berat muatan untuk hari berikutnya dengan menggunakan rumus :"
   ]
  },
  {
   "attachments": {
    "image.png": {
     "image/png": "[encoded data removed]"
    }
   },
   "cell_type": "markdown",
   "metadata": {},
   "source": [
    "![image.png](attachment:image.png)"
   ]
  },
  {
   "cell_type": "code",
   "execution_count": 1106,
   "metadata": {},
   "outputs": [
    {
     "data": {
      "text/plain": [
       "1187970.0"
      ]
     },
     "execution_count": 1106,
     "metadata": {},
     "output_type": "execute_result"
    }
   ],
   "source": [
    "# w hari ini adalah load_weight 9 juli 2021\n",
    "#Δt = 1 karena untuk 1 hari ke depan (besok)\n",
    "# index -1 karena data paling terakhir\n",
    "load_weight_tommorow = df1['load_weight'][-1] + v[-1]*1\n",
    "abs(load_weight_tommorow) #abs agar nilainya tidak minus"
   ]
  },
  {
   "attachments": {},
   "cell_type": "markdown",
   "metadata": {},
   "source": [
    "Didapatkan perkiraan berat muatan sampah dihari esok (10 Juli 2021) sebesar __1.187.970__ kg."
   ]
  },
  {
   "attachments": {},
   "cell_type": "markdown",
   "metadata": {},
   "source": [
    "# Jawaban untuk Problem 2 (math)"
   ]
  },
  {
   "attachments": {},
   "cell_type": "markdown",
   "metadata": {},
   "source": [
    "1. Untuk menghitung turunan pertama dapat digunakan metode simbolik dan numerik, untuk kasus ini, teknik apa yang kamu gunakan?"
   ]
  },
  {
   "attachments": {},
   "cell_type": "markdown",
   "metadata": {},
   "source": [
    "- Jawab:"
   ]
  },
  {
   "attachments": {},
   "cell_type": "markdown",
   "metadata": {},
   "source": [
    "Pada kasus ini metode yang digunakan adalah numerik yaitu fungsi `numpy.diff()`."
   ]
  },
  {
   "attachments": {},
   "cell_type": "markdown",
   "metadata": {},
   "source": [
    "2. Apakah kamu membutuhkan fungsi matematis untuk menghitung turunannya? (ya/tidak) berikan alasanmu!"
   ]
  },
  {
   "attachments": {},
   "cell_type": "markdown",
   "metadata": {},
   "source": [
    "- Jawab:"
   ]
  },
  {
   "attachments": {},
   "cell_type": "markdown",
   "metadata": {},
   "source": [
    "Ya diperlukan fungsi matematis untuk menghitung turunan. Dari rumus yang diberikan kita dapat menghitung dengan memasukkan nilai (_value_) dari data yang kita punya. Dengan begitu kita bisa menghitung turunan untuk memperkirakan berat muatan sampah di hari esok. "
   ]
  },
  {
   "attachments": {},
   "cell_type": "markdown",
   "metadata": {},
   "source": [
    "3. Berapa load weight yang kamu perkirakan di hari esok (10 Juli 2021)?"
   ]
  },
  {
   "attachments": {},
   "cell_type": "markdown",
   "metadata": {},
   "source": [
    "- Jawab:"
   ]
  },
  {
   "attachments": {},
   "cell_type": "markdown",
   "metadata": {},
   "source": [
    "Perkiraan berat muatan sampah dihari esok (10 Juli 2021) sebesar __1.187.970__ kg."
   ]
  },
  {
   "attachments": {},
   "cell_type": "markdown",
   "metadata": {},
   "source": [
    "# Kesimpulan"
   ]
  },
  {
   "attachments": {},
   "cell_type": "markdown",
   "metadata": {},
   "source": [
    "Dari hasil analisa data diketahui bahwa pengelolaan sampah di kota Austin kurang begitu bagus terutama hal pendistribusian sampah ke lokasi pembuangan. Terdapat beberapa data yang terduplikasi dan data berat muatan yang hilang. Karena distribusi sampah yang kurang merata, kemungkinan akan terjadi penumpukkan sampah di suatu tempat pembuangan yang dapat menimbulkan masalah di masa yang akan datang. Oleh karena itu distribusi sampah harus merata agar dapat dikelola dengan baik dan tidak ada masalah di masa yang akan datang."
   ]
  }
 ],
 "metadata": {
  "kernelspec": {
   "display_name": "Python 3",
   "language": "python",
   "name": "python3"
  },
  "language_info": {
   "codemirror_mode": {
    "name": "ipython",
    "version": 3
   },
   "file_extension": ".py",
   "mimetype": "text/x-python",
   "name": "python",
   "nbconvert_exporter": "python",
   "pygments_lexer": "ipython3",
   "version": "3.9.13"
  },
  "orig_nbformat": 4,
  "vscode": {
   "interpreter": {
    "hash": "2d3b6ab07c28e2a0b34c77552937bafdcb9e2bb26e97beb993b0dfe42dee7c26"
   }
  }
 },
 "nbformat": 4,
 "nbformat_minor": 2
}
